{
 "cells": [
  {
   "cell_type": "markdown",
   "metadata": {},
   "source": [
    "# Objective\n",
    "\n",
    "Help Microsoft choose waht type of movies they should implement\n",
    "\n",
    "To help choose which movies are best for Microsoft to start with, we should consider using\n",
    "\n",
    "**movie genres**\n",
    "\n",
    "**production budget**\n",
    "\n",
    "**revenue(gross)**\n",
    "\n",
    "**votes/ratings**"
   ]
  },
  {
   "cell_type": "markdown",
   "metadata": {},
   "source": [
    "## Methodology\n",
    "\n",
    "Some areas you can look to examine are movie genres (Thriller, Drama, Comedy, etc.), movie ratings, budget, social media discussion, and critic or user reviews. Your team gets to define its _own questions_ about the movie industry and then use its knowledge of descriptive statistics and the EDA process to try and answer those questions. <br>\n",
    "Questions to consider:\n",
    "- How are you defining _success_ ?\n",
    " - Return on investment?\n",
    " - Revenue?\n",
    " - Garunteed box-office hit?\n",
    " - Social media buzz?"
   ]
  },
  {
   "cell_type": "code",
   "execution_count": 12,
   "metadata": {},
   "outputs": [],
   "source": [
    "# Import all libraries\n",
    "import pandas as pd\n",
    "import matplotlib.pylab as plt\n",
    "import numpy as np\n",
    "import re"
   ]
  },
  {
   "cell_type": "code",
   "execution_count": 13,
   "metadata": {},
   "outputs": [],
   "source": [
    "# Creating data-frames out of the existing files and assigning them names\n",
    "movie_gross_df = pd.read_csv(\"Data/bom.movie_gross.csv.gz\")\n",
    "name_basics_df = pd.read_csv(\"Data/imdb.name.basics.csv.gz\")\n",
    "akas_df = pd.read_csv(\"Data/imdb.title.akas.csv.gz\")\n",
    "basics_df = pd.read_csv(\"Data/imdb.title.basics.csv.gz\")\n",
    "crew_df = pd.read_csv(\"Data/imdb.title.crew.csv.gz\")\n",
    "principals_df = pd.read_csv(\"Data/imdb.title.principals.csv.gz\")\n",
    "ratings_df = pd.read_csv(\"Data/imdb.title.ratings.csv.gz\")\n",
    "movies_df = pd.read_csv(\"Data/tmdb.movies.csv.gz\")\n",
    "movie_budget_df = pd.read_csv(\"Data/tn.movie_budgets.csv.gz\")\n",
    "rt_info_df = pd.read_csv(\"Data/rt.movie_info.tsv.gz\", sep='\\t')\n",
    "rt_reviews_df = pd.read_csv(\"Data/rt.reviews.tsv.gz\", sep='\\t', encoding=\"unicode_escape\")"
   ]
  },
  {
   "cell_type": "markdown",
   "metadata": {},
   "source": [
    "# Data Description\n",
    "\n",
    "**movie_budget_df** \n",
    "- release date \n",
    "- movie name\n",
    "- production budget\n",
    "- demestic gross\n",
    "- worldwide gross\n",
    "\n",
    "**movie_gross_df**\n",
    "- movie name\n",
    "- studio name\n",
    "- domestic gross\n",
    "- foriegn gross\n",
    "- year of movie\n",
    "\n",
    "**movies_df**\n",
    "- genre ids\n",
    "- the id\n",
    "- original language filmed in\n",
    "- movie name\n",
    "- popularity\n",
    "- release date\n",
    "- vote\n",
    "- vote count\n",
    "\n",
    "**name_basics_df**\n",
    "\n",
    "**akas_df**\n",
    "\n",
    "**basics_df**\n",
    "- primary and original title\n",
    "- start year\n",
    "- runtime in mins\n",
    "- genre\n",
    "\n",
    "**crew_df**\n",
    "- directors\n",
    "- writers\n",
    "\n",
    "**principals_df**\n",
    "\n",
    "**ratings_df**\n",
    "- average num. of ratings\n",
    "- num. of votes\n",
    "\n",
    "**rt_reviews_df**\n",
    "- review\n",
    "- rating\n",
    "- fresh/rotten\n",
    "- critic/top critic\n",
    "- publisher\n",
    "- date\n",
    "\n",
    "**rt_info_df**\n",
    "- synopsis\n",
    "- movie rating\n",
    "- genre\n",
    "- director\n",
    "- writer\n",
    "- release date\n",
    "- dvd date\n",
    "- currency\n",
    "- box office\n",
    "- runtime\n",
    "- studio"
   ]
  },
  {
   "cell_type": "markdown",
   "metadata": {},
   "source": [
    "# Data that are similar\n",
    "\n",
    "movie_budget_df & movie_gross_df\n",
    "\n",
    "movies_df & ratings_df\n",
    "\n",
    "# Data To Use\n",
    "\n",
    "**movie_gross_df**\n",
    "\n",
    "**movie_budget_df**"
   ]
  },
  {
   "cell_type": "markdown",
   "metadata": {},
   "source": [
    "# What To Show\n",
    "Name of Movie\n",
    "\n",
    "**Genre**\n",
    "\n",
    "**Movie Rating**\n",
    "\n",
    "Release Date - Not a priority\n",
    "\n",
    "**Production Budget/Gross Revenue/ROI**\n",
    "\n",
    "Ratings"
   ]
  },
  {
   "cell_type": "code",
   "execution_count": 14,
   "metadata": {},
   "outputs": [],
   "source": [
    "# data_on_movies = pd.concat([movie_gross_df, name_basics_df, crew_df, pricipals_df, ratings_df, movies_df, movie_budget_df], sort=True)"
   ]
  },
  {
   "cell_type": "code",
   "execution_count": 15,
   "metadata": {},
   "outputs": [],
   "source": [
    "# Join movie_budget and movie_gross\n",
    "budget_df = pd.concat([movie_budget_df, movie_gross_df], axis=1, join=\"inner\")"
   ]
  },
  {
   "cell_type": "code",
   "execution_count": 16,
   "metadata": {},
   "outputs": [],
   "source": [
    "# New column with ROI using worldwide gross revenue and production budget"
   ]
  },
  {
   "cell_type": "code",
   "execution_count": 17,
   "metadata": {},
   "outputs": [],
   "source": [
    "# Un-format string \"$\" and \",\" to a plain string of numbers\n",
    "def remove_format(dataframe):\n",
    "    for strings in dataframe:\n",
    "        dataframe.replace(\"[\\$,)]\", \"\", regex=True, inplace=True)\n",
    "        \n",
    "# -----------------------Second Way-------------------------\n",
    "        \n",
    "# # Un-format string \"$\" and \",\" to a plain string of numbers\n",
    "# movie_budget_df['production_budget'] = movie_budget_df['production_budget'].replace('[\\$,)]', \"\", regex=True)\n",
    "# movie_budget_df['worldwide_gross'] = movie_budget_df['worldwide_gross'].replace('[\\$,)]', \"\", regex=True)\n",
    "# movie_budget_df['domestic_gross'] = movie_budget_df['domestic_gross'].replace('[\\$,)]', \"\", regex=True)"
   ]
  },
  {
   "cell_type": "code",
   "execution_count": 18,
   "metadata": {},
   "outputs": [],
   "source": [
    "remove_format(movie_budget_df)"
   ]
  },
  {
   "cell_type": "code",
   "execution_count": 19,
   "metadata": {},
   "outputs": [
    {
     "data": {
      "text/html": [
       "<div>\n",
       "<style scoped>\n",
       "    .dataframe tbody tr th:only-of-type {\n",
       "        vertical-align: middle;\n",
       "    }\n",
       "\n",
       "    .dataframe tbody tr th {\n",
       "        vertical-align: top;\n",
       "    }\n",
       "\n",
       "    .dataframe thead th {\n",
       "        text-align: right;\n",
       "    }\n",
       "</style>\n",
       "<table border=\"1\" class=\"dataframe\">\n",
       "  <thead>\n",
       "    <tr style=\"text-align: right;\">\n",
       "      <th></th>\n",
       "      <th>id</th>\n",
       "      <th>release_date</th>\n",
       "      <th>movie</th>\n",
       "      <th>production_budget</th>\n",
       "      <th>domestic_gross</th>\n",
       "      <th>worldwide_gross</th>\n",
       "    </tr>\n",
       "  </thead>\n",
       "  <tbody>\n",
       "    <tr>\n",
       "      <th>0</th>\n",
       "      <td>1</td>\n",
       "      <td>Dec 18 2009</td>\n",
       "      <td>Avatar</td>\n",
       "      <td>425000000</td>\n",
       "      <td>760507625</td>\n",
       "      <td>2776345279</td>\n",
       "    </tr>\n",
       "    <tr>\n",
       "      <th>1</th>\n",
       "      <td>2</td>\n",
       "      <td>May 20 2011</td>\n",
       "      <td>Pirates of the Caribbean: On Stranger Tides</td>\n",
       "      <td>410600000</td>\n",
       "      <td>241063875</td>\n",
       "      <td>1045663875</td>\n",
       "    </tr>\n",
       "    <tr>\n",
       "      <th>2</th>\n",
       "      <td>3</td>\n",
       "      <td>Jun 7 2019</td>\n",
       "      <td>Dark Phoenix</td>\n",
       "      <td>350000000</td>\n",
       "      <td>42762350</td>\n",
       "      <td>149762350</td>\n",
       "    </tr>\n",
       "    <tr>\n",
       "      <th>3</th>\n",
       "      <td>4</td>\n",
       "      <td>May 1 2015</td>\n",
       "      <td>Avengers: Age of Ultron</td>\n",
       "      <td>330600000</td>\n",
       "      <td>459005868</td>\n",
       "      <td>1403013963</td>\n",
       "    </tr>\n",
       "    <tr>\n",
       "      <th>4</th>\n",
       "      <td>5</td>\n",
       "      <td>Dec 15 2017</td>\n",
       "      <td>Star Wars Ep. VIII: The Last Jedi</td>\n",
       "      <td>317000000</td>\n",
       "      <td>620181382</td>\n",
       "      <td>1316721747</td>\n",
       "    </tr>\n",
       "  </tbody>\n",
       "</table>\n",
       "</div>"
      ],
      "text/plain": [
       "   id release_date                                        movie  \\\n",
       "0   1  Dec 18 2009                                       Avatar   \n",
       "1   2  May 20 2011  Pirates of the Caribbean: On Stranger Tides   \n",
       "2   3   Jun 7 2019                                 Dark Phoenix   \n",
       "3   4   May 1 2015                      Avengers: Age of Ultron   \n",
       "4   5  Dec 15 2017            Star Wars Ep. VIII: The Last Jedi   \n",
       "\n",
       "  production_budget domestic_gross worldwide_gross  \n",
       "0         425000000      760507625      2776345279  \n",
       "1         410600000      241063875      1045663875  \n",
       "2         350000000       42762350       149762350  \n",
       "3         330600000      459005868      1403013963  \n",
       "4         317000000      620181382      1316721747  "
      ]
     },
     "execution_count": 19,
     "metadata": {},
     "output_type": "execute_result"
    }
   ],
   "source": [
    "movie_budget_df.head()"
   ]
  }
 ],
 "metadata": {
  "kernelspec": {
   "display_name": "Python 3",
   "language": "python",
   "name": "python3"
  },
  "language_info": {
   "codemirror_mode": {
    "name": "ipython",
    "version": 3
   },
   "file_extension": ".py",
   "mimetype": "text/x-python",
   "name": "python",
   "nbconvert_exporter": "python",
   "pygments_lexer": "ipython3",
   "version": "3.8.1"
  }
 },
 "nbformat": 4,
 "nbformat_minor": 4
}
