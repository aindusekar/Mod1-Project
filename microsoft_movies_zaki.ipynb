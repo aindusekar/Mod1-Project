{
 "cells": [
  {
   "cell_type": "markdown",
   "metadata": {},
   "source": [
    "# Objective\n",
    "\n",
    "Help Microsoft choose waht type of movies they should implement\n",
    "\n",
    "To help choose which movies are best for Microsoft to start with, we should consider using\n",
    "\n",
    "**movie genres**\n",
    "\n",
    "**production budget**\n",
    "\n",
    "**revenue(gross)**\n",
    "\n",
    "**votes/ratings**"
   ]
  },
  {
   "cell_type": "markdown",
   "metadata": {},
   "source": [
    "## Methodology\n",
    "\n",
    "Some areas you can look to examine are movie genres (Thriller, Drama, Comedy, etc.), movie ratings, budget, social media discussion, and critic or user reviews. Your team gets to define its _own questions_ about the movie industry and then use its knowledge of descriptive statistics and the EDA process to try and answer those questions. <br>\n",
    "Questions to consider:\n",
    "- How are you defining _success_ ?\n",
    " - Return on investment?\n",
    " - Revenue?\n",
    " - Garunteed box-office hit?\n",
    " - Social media buzz?"
   ]
  },
  {
   "cell_type": "code",
   "execution_count": 211,
   "metadata": {},
   "outputs": [],
   "source": [
    "# Import all libraries\n",
    "import pandas as pd\n",
    "import matplotlib.pylab as plt\n",
    "import numpy as np\n",
    "import re"
   ]
  },
  {
   "cell_type": "code",
   "execution_count": 212,
   "metadata": {},
   "outputs": [],
   "source": [
    "# Creating data-frames out of the existing files and assigning them names\n",
    "movie_gross_df = pd.read_csv(\"Data/bom.movie_gross.csv.gz\")\n",
    "name_basics_df = pd.read_csv(\"Data/imdb.name.basics.csv.gz\")\n",
    "akas_df = pd.read_csv(\"Data/imdb.title.akas.csv.gz\")\n",
    "basics_df = pd.read_csv(\"Data/imdb.title.basics.csv.gz\")\n",
    "crew_df = pd.read_csv(\"Data/imdb.title.crew.csv.gz\")\n",
    "principals_df = pd.read_csv(\"Data/imdb.title.principals.csv.gz\")\n",
    "ratings_df = pd.read_csv(\"Data/imdb.title.ratings.csv.gz\")\n",
    "movies_df = pd.read_csv(\"Data/tmdb.movies.csv.gz\")\n",
    "movie_budget_df = pd.read_csv(\"Data/tn.movie_budgets.csv.gz\")\n",
    "rt_info_df = pd.read_csv(\"Data/rt.movie_info.tsv.gz\", sep='\\t')\n",
    "rt_reviews_df = pd.read_csv(\"Data/rt.reviews.tsv.gz\", sep='\\t', encoding=\"unicode_escape\")"
   ]
  },
  {
   "cell_type": "markdown",
   "metadata": {},
   "source": [
    "# Data Description\n",
    "\n",
    "**movie_budget_df** \n",
    "- release date \n",
    "- movie name\n",
    "- production budget\n",
    "- domestic gross\n",
    "- worldwide gross\n",
    "\n",
    "**movie_gross_df**\n",
    "- movie name\n",
    "- studio name\n",
    "- domestic gross\n",
    "- foriegn gross\n",
    "- year of movie\n",
    "\n",
    "**movies_df**\n",
    "- genre ids\n",
    "- the id\n",
    "- original language filmed in\n",
    "- movie name\n",
    "- popularity\n",
    "- release date\n",
    "- vote\n",
    "- vote count\n",
    "\n",
    "**name_basics_df**\n",
    "\n",
    "**akas_df**\n",
    "\n",
    "**basics_df**\n",
    "- primary and original title\n",
    "- start year\n",
    "- runtime in mins\n",
    "- genre\n",
    "\n",
    "**crew_df**\n",
    "- directors\n",
    "- writers\n",
    "\n",
    "**principals_df**\n",
    "\n",
    "**ratings_df**\n",
    "- average num. of ratings\n",
    "- num. of votes\n",
    "\n",
    "**rt_reviews_df**\n",
    "- review\n",
    "- rating\n",
    "- fresh/rotten\n",
    "- critic/top critic\n",
    "- publisher\n",
    "- date\n",
    "\n",
    "**rt_info_df**\n",
    "- synopsis\n",
    "- movie rating\n",
    "- genre\n",
    "- director\n",
    "- writer\n",
    "- release date\n",
    "- dvd date\n",
    "- currency\n",
    "- box office\n",
    "- runtime\n",
    "- studio"
   ]
  },
  {
   "cell_type": "markdown",
   "metadata": {},
   "source": [
    "# Data that are similar\n",
    "\n",
    "movie_budget_df & movie_gross_df\n",
    "\n",
    "movies_df & ratings_df\n",
    "\n",
    "# Data To Use\n",
    "\n",
    "**movie_gross_df**\n",
    "\n",
    "**movie_budget_df**"
   ]
  },
  {
   "cell_type": "markdown",
   "metadata": {},
   "source": [
    "# What To Show\n",
    "Name of Movie\n",
    "\n",
    "**Genre**\n",
    "\n",
    "**Movie Rating**\n",
    "\n",
    "Release Date - Not a priority\n",
    "\n",
    "**Production Budget/Gross Revenue/ROI**\n",
    "\n",
    "Ratings"
   ]
  },
  {
   "cell_type": "markdown",
   "metadata": {},
   "source": [
    "# **Code Starts Here**"
   ]
  },
  {
   "cell_type": "markdown",
   "metadata": {},
   "source": [
    "### What Data-Frames Were Chosen\n",
    "We chose two dataframes to use, **movie_budget_df** and **movie_gross_df**"
   ]
  },
  {
   "cell_type": "markdown",
   "metadata": {},
   "source": [
    "## Problem\n",
    "The **movie_budget_df** had special characters, \"$\" and \",\", that the other dataframe, **movie_gross_df** did not.\n",
    "\n",
    "We are not able to merge because of these differences\n",
    "\n",
    "## Solution\n",
    "We created a function that allows us to input any dataframe and take out the commas and USD signs"
   ]
  },
  {
   "cell_type": "code",
   "execution_count": 213,
   "metadata": {},
   "outputs": [],
   "source": [
    "# Gitting rid of \"$\" and \",\" in a dataframe\n",
    "def remove_format(dataframe):\n",
    "    for strings in dataframe:\n",
    "        dataframe.replace('[\\$,)]','', regex=True, inplace=True)"
   ]
  },
  {
   "cell_type": "code",
   "execution_count": 214,
   "metadata": {},
   "outputs": [],
   "source": [
    "# Removing specified characters in this dataframe\n",
    "remove_format(movie_budget_df)"
   ]
  },
  {
   "cell_type": "markdown",
   "metadata": {},
   "source": [
    "# Changing Data Types\n",
    "\n",
    "## Problem\n",
    "There's more Inconsistency with our dataframes. **movie_budget_df** has a dtype of int, while **movie_gross_df** had a dtype of float.\n",
    "\n",
    "In order to merge we need to have our data as consistent as possible\n",
    "\n",
    "## Solution\n",
    "We access the **movie_budget_df** and choose our specific columns and change the dtype to a float.\n",
    "\n",
    "Now our **movie_budget_df** has a float dtype, just like the **movie_gross_df**"
   ]
  },
  {
   "cell_type": "code",
   "execution_count": 215,
   "metadata": {},
   "outputs": [],
   "source": [
    "# Changing data types to a float to match same content\n",
    "movie_budget_df['production_budget']  = movie_budget_df['production_budget'].astype(float)\n",
    "movie_budget_df['domestic_gross']  = movie_budget_df['domestic_gross'].astype(float)\n",
    "movie_budget_df['worldwide_gross']  = movie_budget_df['worldwide_gross'].astype(float)"
   ]
  },
  {
   "cell_type": "code",
   "execution_count": 216,
   "metadata": {},
   "outputs": [
    {
     "name": "stdout",
     "output_type": "stream",
     "text": [
      "<class 'pandas.core.frame.DataFrame'>\n",
      "RangeIndex: 5782 entries, 0 to 5781\n",
      "Data columns (total 6 columns):\n",
      "id                   5782 non-null int64\n",
      "release_date         5782 non-null object\n",
      "movie                5782 non-null object\n",
      "production_budget    5782 non-null float64\n",
      "domestic_gross       5782 non-null float64\n",
      "worldwide_gross      5782 non-null float64\n",
      "dtypes: float64(3), int64(1), object(2)\n",
      "memory usage: 271.2+ KB\n"
     ]
    }
   ],
   "source": [
    "movie_budget_df.info() # Checking to see if info matches in order to merge"
   ]
  },
  {
   "cell_type": "code",
   "execution_count": 217,
   "metadata": {},
   "outputs": [
    {
     "name": "stdout",
     "output_type": "stream",
     "text": [
      "<class 'pandas.core.frame.DataFrame'>\n",
      "RangeIndex: 3387 entries, 0 to 3386\n",
      "Data columns (total 5 columns):\n",
      "title             3387 non-null object\n",
      "studio            3382 non-null object\n",
      "domestic_gross    3359 non-null float64\n",
      "foreign_gross     2037 non-null object\n",
      "year              3387 non-null int64\n",
      "dtypes: float64(1), int64(1), object(3)\n",
      "memory usage: 132.4+ KB\n"
     ]
    }
   ],
   "source": [
    "movie_gross_df.info() # Checking to see if info matches in order to merge"
   ]
  },
  {
   "cell_type": "markdown",
   "metadata": {},
   "source": [
    "# Dropping Columns\n",
    "\n",
    "## Problem\n",
    "We've found missing data in **movie_gross_df**\n",
    "\n",
    "## Solution\n",
    "We use the dropna() method and set its' parameters as inplace=True. \n",
    "\n",
    "We set that specific key argument because that allows our changes to be inside that dataframe, acting as if it was a save and remember key."
   ]
  },
  {
   "cell_type": "code",
   "execution_count": 218,
   "metadata": {},
   "outputs": [],
   "source": [
    "# Dropping all missing values(NaN) inside the dataframe\n",
    "movie_gross_df.dropna(inplace=True)"
   ]
  },
  {
   "cell_type": "code",
   "execution_count": 219,
   "metadata": {},
   "outputs": [
    {
     "data": {
      "text/plain": [
       "title             0\n",
       "studio            0\n",
       "domestic_gross    0\n",
       "foreign_gross     0\n",
       "year              0\n",
       "dtype: int64"
      ]
     },
     "execution_count": 219,
     "metadata": {},
     "output_type": "execute_result"
    }
   ],
   "source": [
    "movie_gross_df.isna().sum() # Sums the amount of NaN's there are in each column"
   ]
  },
  {
   "cell_type": "code",
   "execution_count": 220,
   "metadata": {},
   "outputs": [
    {
     "data": {
      "text/plain": [
       "id                   0\n",
       "release_date         0\n",
       "movie                0\n",
       "production_budget    0\n",
       "domestic_gross       0\n",
       "worldwide_gross      0\n",
       "dtype: int64"
      ]
     },
     "execution_count": 220,
     "metadata": {},
     "output_type": "execute_result"
    }
   ],
   "source": [
    "movie_budget_df.isna().sum() # Sums the amount of NaN's there are in each column"
   ]
  },
  {
   "cell_type": "code",
   "execution_count": 221,
   "metadata": {},
   "outputs": [],
   "source": [
    "# Changing column names\n",
    "movie_gross_df = movie_gross_df.rename(columns={\"title\": \"movie\", \"foreign_gross\": \"worldwide_gross\"})"
   ]
  },
  {
   "cell_type": "code",
   "execution_count": 222,
   "metadata": {},
   "outputs": [
    {
     "data": {
      "text/html": [
       "<div>\n",
       "<style scoped>\n",
       "    .dataframe tbody tr th:only-of-type {\n",
       "        vertical-align: middle;\n",
       "    }\n",
       "\n",
       "    .dataframe tbody tr th {\n",
       "        vertical-align: top;\n",
       "    }\n",
       "\n",
       "    .dataframe thead th {\n",
       "        text-align: right;\n",
       "    }\n",
       "</style>\n",
       "<table border=\"1\" class=\"dataframe\">\n",
       "  <thead>\n",
       "    <tr style=\"text-align: right;\">\n",
       "      <th></th>\n",
       "      <th>id</th>\n",
       "      <th>release_date</th>\n",
       "      <th>movie</th>\n",
       "      <th>production_budget</th>\n",
       "      <th>domestic_gross</th>\n",
       "      <th>worldwide_gross</th>\n",
       "    </tr>\n",
       "  </thead>\n",
       "  <tbody>\n",
       "    <tr>\n",
       "      <th>0</th>\n",
       "      <td>1</td>\n",
       "      <td>Dec 18 2009</td>\n",
       "      <td>Avatar</td>\n",
       "      <td>425000000.0</td>\n",
       "      <td>760507625.0</td>\n",
       "      <td>2.776345e+09</td>\n",
       "    </tr>\n",
       "    <tr>\n",
       "      <th>1</th>\n",
       "      <td>2</td>\n",
       "      <td>May 20 2011</td>\n",
       "      <td>Pirates of the Caribbean: On Stranger Tides</td>\n",
       "      <td>410600000.0</td>\n",
       "      <td>241063875.0</td>\n",
       "      <td>1.045664e+09</td>\n",
       "    </tr>\n",
       "    <tr>\n",
       "      <th>2</th>\n",
       "      <td>3</td>\n",
       "      <td>Jun 7 2019</td>\n",
       "      <td>Dark Phoenix</td>\n",
       "      <td>350000000.0</td>\n",
       "      <td>42762350.0</td>\n",
       "      <td>1.497624e+08</td>\n",
       "    </tr>\n",
       "    <tr>\n",
       "      <th>3</th>\n",
       "      <td>4</td>\n",
       "      <td>May 1 2015</td>\n",
       "      <td>Avengers: Age of Ultron</td>\n",
       "      <td>330600000.0</td>\n",
       "      <td>459005868.0</td>\n",
       "      <td>1.403014e+09</td>\n",
       "    </tr>\n",
       "    <tr>\n",
       "      <th>4</th>\n",
       "      <td>5</td>\n",
       "      <td>Dec 15 2017</td>\n",
       "      <td>Star Wars Ep. VIII: The Last Jedi</td>\n",
       "      <td>317000000.0</td>\n",
       "      <td>620181382.0</td>\n",
       "      <td>1.316722e+09</td>\n",
       "    </tr>\n",
       "  </tbody>\n",
       "</table>\n",
       "</div>"
      ],
      "text/plain": [
       "   id release_date                                        movie  \\\n",
       "0   1  Dec 18 2009                                       Avatar   \n",
       "1   2  May 20 2011  Pirates of the Caribbean: On Stranger Tides   \n",
       "2   3   Jun 7 2019                                 Dark Phoenix   \n",
       "3   4   May 1 2015                      Avengers: Age of Ultron   \n",
       "4   5  Dec 15 2017            Star Wars Ep. VIII: The Last Jedi   \n",
       "\n",
       "   production_budget  domestic_gross  worldwide_gross  \n",
       "0        425000000.0     760507625.0     2.776345e+09  \n",
       "1        410600000.0     241063875.0     1.045664e+09  \n",
       "2        350000000.0      42762350.0     1.497624e+08  \n",
       "3        330600000.0     459005868.0     1.403014e+09  \n",
       "4        317000000.0     620181382.0     1.316722e+09  "
      ]
     },
     "execution_count": 222,
     "metadata": {},
     "output_type": "execute_result"
    }
   ],
   "source": [
    "movie_budget_df.head()"
   ]
  },
  {
   "cell_type": "code",
   "execution_count": 223,
   "metadata": {},
   "outputs": [
    {
     "name": "stdout",
     "output_type": "stream",
     "text": [
      "<class 'pandas.core.frame.DataFrame'>\n",
      "RangeIndex: 5782 entries, 0 to 5781\n",
      "Data columns (total 6 columns):\n",
      "id                   5782 non-null int64\n",
      "release_date         5782 non-null object\n",
      "movie                5782 non-null object\n",
      "production_budget    5782 non-null float64\n",
      "domestic_gross       5782 non-null float64\n",
      "worldwide_gross      5782 non-null float64\n",
      "dtypes: float64(3), int64(1), object(2)\n",
      "memory usage: 271.2+ KB\n"
     ]
    }
   ],
   "source": [
    "movie_budget_df.info()"
   ]
  },
  {
   "cell_type": "code",
   "execution_count": 238,
   "metadata": {},
   "outputs": [],
   "source": [
    "percent = 100 # Defining the percent for we can convert a given number into percent form\n",
    "\n",
    "# Creating a new column that shows ROI\n",
    "movie_budget_df[\"worldwide_roi\"] = (movie_budget_df.worldwide_gross / movie_budget_df.production_budget) * percent\n",
    "movie_budget_df[\"domestic_roi\"] = (movie_budget_df.domestic_gross / movie_budget_df.production_budget) * percent"
   ]
  },
  {
   "cell_type": "code",
   "execution_count": 239,
   "metadata": {},
   "outputs": [
    {
     "data": {
      "text/html": [
       "<div>\n",
       "<style scoped>\n",
       "    .dataframe tbody tr th:only-of-type {\n",
       "        vertical-align: middle;\n",
       "    }\n",
       "\n",
       "    .dataframe tbody tr th {\n",
       "        vertical-align: top;\n",
       "    }\n",
       "\n",
       "    .dataframe thead th {\n",
       "        text-align: right;\n",
       "    }\n",
       "</style>\n",
       "<table border=\"1\" class=\"dataframe\">\n",
       "  <thead>\n",
       "    <tr style=\"text-align: right;\">\n",
       "      <th></th>\n",
       "      <th>id</th>\n",
       "      <th>release_date</th>\n",
       "      <th>movie</th>\n",
       "      <th>production_budget</th>\n",
       "      <th>domestic_gross</th>\n",
       "      <th>worldwide_gross</th>\n",
       "      <th>worldwide_roi</th>\n",
       "      <th>domestic_roi</th>\n",
       "    </tr>\n",
       "  </thead>\n",
       "  <tbody>\n",
       "    <tr>\n",
       "      <th>0</th>\n",
       "      <td>1</td>\n",
       "      <td>Dec 18 2009</td>\n",
       "      <td>Avatar</td>\n",
       "      <td>425000000.0</td>\n",
       "      <td>760507625.0</td>\n",
       "      <td>2.776345e+09</td>\n",
       "      <td>653.257713</td>\n",
       "      <td>178.942971</td>\n",
       "    </tr>\n",
       "    <tr>\n",
       "      <th>1</th>\n",
       "      <td>2</td>\n",
       "      <td>May 20 2011</td>\n",
       "      <td>Pirates of the Caribbean: On Stranger Tides</td>\n",
       "      <td>410600000.0</td>\n",
       "      <td>241063875.0</td>\n",
       "      <td>1.045664e+09</td>\n",
       "      <td>254.667286</td>\n",
       "      <td>58.710150</td>\n",
       "    </tr>\n",
       "    <tr>\n",
       "      <th>2</th>\n",
       "      <td>3</td>\n",
       "      <td>Jun 7 2019</td>\n",
       "      <td>Dark Phoenix</td>\n",
       "      <td>350000000.0</td>\n",
       "      <td>42762350.0</td>\n",
       "      <td>1.497624e+08</td>\n",
       "      <td>42.789243</td>\n",
       "      <td>12.217814</td>\n",
       "    </tr>\n",
       "    <tr>\n",
       "      <th>3</th>\n",
       "      <td>4</td>\n",
       "      <td>May 1 2015</td>\n",
       "      <td>Avengers: Age of Ultron</td>\n",
       "      <td>330600000.0</td>\n",
       "      <td>459005868.0</td>\n",
       "      <td>1.403014e+09</td>\n",
       "      <td>424.384139</td>\n",
       "      <td>138.840250</td>\n",
       "    </tr>\n",
       "    <tr>\n",
       "      <th>4</th>\n",
       "      <td>5</td>\n",
       "      <td>Dec 15 2017</td>\n",
       "      <td>Star Wars Ep. VIII: The Last Jedi</td>\n",
       "      <td>317000000.0</td>\n",
       "      <td>620181382.0</td>\n",
       "      <td>1.316722e+09</td>\n",
       "      <td>415.369636</td>\n",
       "      <td>195.640815</td>\n",
       "    </tr>\n",
       "  </tbody>\n",
       "</table>\n",
       "</div>"
      ],
      "text/plain": [
       "   id release_date                                        movie  \\\n",
       "0   1  Dec 18 2009                                       Avatar   \n",
       "1   2  May 20 2011  Pirates of the Caribbean: On Stranger Tides   \n",
       "2   3   Jun 7 2019                                 Dark Phoenix   \n",
       "3   4   May 1 2015                      Avengers: Age of Ultron   \n",
       "4   5  Dec 15 2017            Star Wars Ep. VIII: The Last Jedi   \n",
       "\n",
       "   production_budget  domestic_gross  worldwide_gross  worldwide_roi  \\\n",
       "0        425000000.0     760507625.0     2.776345e+09     653.257713   \n",
       "1        410600000.0     241063875.0     1.045664e+09     254.667286   \n",
       "2        350000000.0      42762350.0     1.497624e+08      42.789243   \n",
       "3        330600000.0     459005868.0     1.403014e+09     424.384139   \n",
       "4        317000000.0     620181382.0     1.316722e+09     415.369636   \n",
       "\n",
       "   domestic_roi  \n",
       "0    178.942971  \n",
       "1     58.710150  \n",
       "2     12.217814  \n",
       "3    138.840250  \n",
       "4    195.640815  "
      ]
     },
     "execution_count": 239,
     "metadata": {},
     "output_type": "execute_result"
    }
   ],
   "source": [
    "movie_budget_df.head()"
   ]
  },
  {
   "cell_type": "code",
   "execution_count": null,
   "metadata": {},
   "outputs": [],
   "source": []
  }
 ],
 "metadata": {
  "kernelspec": {
   "display_name": "Python 3",
   "language": "python",
   "name": "python3"
  },
  "language_info": {
   "codemirror_mode": {
    "name": "ipython",
    "version": 3
   },
   "file_extension": ".py",
   "mimetype": "text/x-python",
   "name": "python",
   "nbconvert_exporter": "python",
   "pygments_lexer": "ipython3",
   "version": "3.8.1"
  }
 },
 "nbformat": 4,
 "nbformat_minor": 4
}
