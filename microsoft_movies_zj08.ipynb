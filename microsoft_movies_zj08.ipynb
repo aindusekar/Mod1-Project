{
 "cells": [
  {
   "cell_type": "markdown",
   "metadata": {},
   "source": [
    "# Objective\n",
    "\n",
    "Help Microsoft choose waht type of movies they should implement\n",
    "\n",
    "To help choose which movies are best for Microsoft to start with, we should consider using\n",
    "\n",
    "**movie genres**\n",
    "\n",
    "**production budget**\n",
    "\n",
    "**revenue(gross)**\n",
    "\n",
    "**votes/ratings**"
   ]
  },
  {
   "cell_type": "markdown",
   "metadata": {},
   "source": [
    "## Methodology\n",
    "\n",
    "Some areas you can look to examine are movie genres (Thriller, Drama, Comedy, etc.), movie ratings, budget, social media discussion, and critic or user reviews. Your team gets to define its _own questions_ about the movie industry and then use its knowledge of descriptive statistics and the EDA process to try and answer those questions. <br>\n",
    "Questions to consider:\n",
    "- How are you defining _success_?\n",
    " - Return on investment?\n",
    " - Revenue?\n",
    " - Guaranteed box-office hit?\n",
    " - Social media buzz?"
   ]
  },
  {
   "cell_type": "code",
   "execution_count": 3,
   "metadata": {},
   "outputs": [
    {
     "ename": "ModuleNotFoundError",
     "evalue": "No module named 'seaborn'",
     "output_type": "error",
     "traceback": [
      "\u001b[0;31m---------------------------------------------------------------------------\u001b[0m",
      "\u001b[0;31mModuleNotFoundError\u001b[0m                       Traceback (most recent call last)",
      "\u001b[0;32m<ipython-input-3-5065df5aad6d>\u001b[0m in \u001b[0;36m<module>\u001b[0;34m\u001b[0m\n\u001b[1;32m      5\u001b[0m \u001b[0;32mimport\u001b[0m \u001b[0mre\u001b[0m\u001b[0;34m\u001b[0m\u001b[0;34m\u001b[0m\u001b[0m\n\u001b[1;32m      6\u001b[0m \u001b[0;32mfrom\u001b[0m \u001b[0mdatetime\u001b[0m \u001b[0;32mimport\u001b[0m \u001b[0mdatetime\u001b[0m\u001b[0;34m\u001b[0m\u001b[0;34m\u001b[0m\u001b[0m\n\u001b[0;32m----> 7\u001b[0;31m \u001b[0;32mimport\u001b[0m \u001b[0mseaborn\u001b[0m \u001b[0;32mas\u001b[0m \u001b[0msns\u001b[0m\u001b[0;34m\u001b[0m\u001b[0;34m\u001b[0m\u001b[0m\n\u001b[0m\u001b[1;32m      8\u001b[0m \u001b[0;34m\u001b[0m\u001b[0m\n\u001b[1;32m      9\u001b[0m \u001b[0mget_ipython\u001b[0m\u001b[0;34m(\u001b[0m\u001b[0;34m)\u001b[0m\u001b[0;34m.\u001b[0m\u001b[0mrun_line_magic\u001b[0m\u001b[0;34m(\u001b[0m\u001b[0;34m'matplotlib'\u001b[0m\u001b[0;34m,\u001b[0m \u001b[0;34m'inline'\u001b[0m\u001b[0;34m)\u001b[0m\u001b[0;34m\u001b[0m\u001b[0;34m\u001b[0m\u001b[0m\n",
      "\u001b[0;31mModuleNotFoundError\u001b[0m: No module named 'seaborn'"
     ]
    }
   ],
   "source": [
    "# Import all libraries\n",
    "import pandas as pd\n",
    "import matplotlib.pylab as plt\n",
    "import numpy as np\n",
    "import re\n",
    "from datetime import datetime\n",
    "import seaborn as sns\n",
    "\n",
    "%matplotlib inline"
   ]
  },
  {
   "cell_type": "code",
   "execution_count": 13,
   "metadata": {},
   "outputs": [],
   "source": [
    "# Creating data-frames out of the existing files and assigning them names\n",
    "movie_gross_df = pd.read_csv(\"Data/bom.movie_gross.csv.gz\")\n",
    "name_basics_df = pd.read_csv(\"Data/imdb.name.basics.csv.gz\")\n",
    "akas_df = pd.read_csv(\"Data/imdb.title.akas.csv.gz\")\n",
    "basics_df = pd.read_csv(\"Data/imdb.title.basics.csv.gz\")\n",
    "crew_df = pd.read_csv(\"Data/imdb.title.crew.csv.gz\")\n",
    "principals_df = pd.read_csv(\"Data/imdb.title.principals.csv.gz\")\n",
    "ratings_df = pd.read_csv(\"Data/imdb.title.ratings.csv.gz\")\n",
    "movies_df = pd.read_csv(\"Data/tmdb.movies.csv.gz\")\n",
    "movie_budget_df = pd.read_csv(\"Data/tn.movie_budgets.csv.gz\")\n",
    "rt_info_df = pd.read_csv(\"Data/rt.movie_info.tsv.gz\", sep='\\t')\n",
    "rt_reviews_df = pd.read_csv(\"Data/rt.reviews.tsv.gz\", sep='\\t', encoding=\"unicode_escape\")"
   ]
  },
  {
   "cell_type": "markdown",
   "metadata": {},
   "source": [
    "# Data Description\n",
    "\n",
    "**movie_budget_df** \n",
    "- release date \n",
    "- movie name\n",
    "- production budget\n",
    "- domestic gross\n",
    "- worldwide gross\n",
    "\n",
    "**movie_gross_df**\n",
    "- movie name\n",
    "- studio name\n",
    "- domestic gross\n",
    "- foreign gross\n",
    "- year of movie\n",
    "\n",
    "**movies_df**\n",
    "- genre ids\n",
    "- the id\n",
    "- original language filmed in\n",
    "- movie name\n",
    "- popularity\n",
    "- release date\n",
    "- vote\n",
    "- vote count\n",
    "\n",
    "**name_basics_df**\n",
    "\n",
    "**akas_df**\n",
    "\n",
    "**basics_df**\n",
    "- primary and original title\n",
    "- start year\n",
    "- runtime in mins\n",
    "- genre\n",
    "\n",
    "**crew_df**\n",
    "- directors\n",
    "- writers\n",
    "\n",
    "**principals_df**\n",
    "\n",
    "**ratings_df**\n",
    "- average num. of ratings\n",
    "- num. of votes\n",
    "\n",
    "**rt_reviews_df**\n",
    "- review\n",
    "- rating\n",
    "- fresh/rotten\n",
    "- critic/top critic\n",
    "- publisher\n",
    "- date\n",
    "\n",
    "**rt_info_df**\n",
    "- synopsis\n",
    "- movie rating\n",
    "- genre\n",
    "- director\n",
    "- writer\n",
    "- release date\n",
    "- dvd date\n",
    "- currency\n",
    "- box office\n",
    "- runtime\n",
    "- studio"
   ]
  },
  {
   "cell_type": "markdown",
   "metadata": {},
   "source": [
    "# Data that are similar\n",
    "\n",
    "movie_budget_df & movie_gross_df\n",
    "\n",
    "movies_df & ratings_df\n",
    "\n",
    "# Data To Use\n",
    "\n",
    "**movie_gross_df**\n",
    "\n",
    "**movie_budget_df**\n",
    "\n",
    "**movies_df**"
   ]
  },
  {
   "cell_type": "markdown",
   "metadata": {},
   "source": [
    "# What To Show\n",
    "Name of Movie\n",
    "\n",
    "**Genre**\n",
    "\n",
    "**Movie Rating**\n",
    "\n",
    "Release Date - Not a priority\n",
    "\n",
    "**Production Budget/Gross Revenue/ROI**\n",
    "\n",
    "Ratings\n",
    "\n",
    "## Game-Plane\n",
    "- **From The movie_budget_df**\n",
    "\n",
    " - The **first** data visulization will show domestic ROI\n",
    "\n",
    " - The **second** data visualization will show worldwide ROI\n",
    " \n",
    "- **From The "
   ]
  },
  {
   "cell_type": "markdown",
   "metadata": {},
   "source": [
    "# **Code Starts Here**"
   ]
  },
  {
   "cell_type": "markdown",
   "metadata": {},
   "source": [
    "### What Data-Frames Were Chosen\n",
    "We chose two dataframes to use, **movie_budget_df** and **movie_gross_df**"
   ]
  },
  {
   "cell_type": "markdown",
   "metadata": {},
   "source": [
    "## Problem\n",
    "The **movie_budget_df** had special characters, \"$\" and \",\", that the other dataframe, **movie_gross_df** did not.\n",
    "\n",
    "We are not able to merge because of these differences\n",
    "\n",
    "## Solution\n",
    "We created a function that allows us to input any dataframe and take out the commas and USD signs"
   ]
  },
  {
   "cell_type": "code",
   "execution_count": 14,
   "metadata": {},
   "outputs": [],
   "source": [
    "# Gitting rid of \"$\" and \",\" in a dataframe\n",
    "def remove_format(dataframe):\n",
    "    for strings in dataframe:\n",
    "        dataframe.replace('[\\$,)]','', regex=True, inplace=True)"
   ]
  },
  {
   "cell_type": "code",
   "execution_count": 15,
   "metadata": {},
   "outputs": [],
   "source": [
    "# Removing specified characters in this dataframe\n",
    "remove_format(movie_budget_df)"
   ]
  },
  {
   "cell_type": "markdown",
   "metadata": {},
   "source": [
    "# Changing Data Types\n",
    "\n",
    "## Problem\n",
    "There's more Inconsistency with our dataframes. **movie_budget_df** has a dtype of int, while **movie_gross_df** had a dtype of float.\n",
    "\n",
    "In order to merge we need to have our data as consistent as possible\n",
    "\n",
    "## Solution\n",
    "We access the **movie_budget_df** and choose our specific columns and change the dtype to a float.\n",
    "\n",
    "Now our **movie_budget_df** has a float dtype, just like the **movie_gross_df**"
   ]
  },
  {
   "cell_type": "code",
   "execution_count": 16,
   "metadata": {},
   "outputs": [],
   "source": [
    "# Changing data types to a float to match same content\n",
    "movie_budget_df['production_budget']  = movie_budget_df['production_budget'].astype(float)\n",
    "movie_budget_df['domestic_gross']  = movie_budget_df['domestic_gross'].astype(float)\n",
    "movie_budget_df['worldwide_gross']  = movie_budget_df['worldwide_gross'].astype(float)"
   ]
  },
  {
   "cell_type": "code",
   "execution_count": 17,
   "metadata": {},
   "outputs": [
    {
     "name": "stdout",
     "output_type": "stream",
     "text": [
      "<class 'pandas.core.frame.DataFrame'>\n",
      "RangeIndex: 5782 entries, 0 to 5781\n",
      "Data columns (total 6 columns):\n",
      "id                   5782 non-null int64\n",
      "release_date         5782 non-null object\n",
      "movie                5782 non-null object\n",
      "production_budget    5782 non-null float64\n",
      "domestic_gross       5782 non-null float64\n",
      "worldwide_gross      5782 non-null float64\n",
      "dtypes: float64(3), int64(1), object(2)\n",
      "memory usage: 271.2+ KB\n"
     ]
    }
   ],
   "source": [
    "movie_budget_df.info() # Checking to see if info matches in order to merge"
   ]
  },
  {
   "cell_type": "code",
   "execution_count": 18,
   "metadata": {},
   "outputs": [
    {
     "name": "stdout",
     "output_type": "stream",
     "text": [
      "<class 'pandas.core.frame.DataFrame'>\n",
      "RangeIndex: 3387 entries, 0 to 3386\n",
      "Data columns (total 5 columns):\n",
      "title             3387 non-null object\n",
      "studio            3382 non-null object\n",
      "domestic_gross    3359 non-null float64\n",
      "foreign_gross     2037 non-null object\n",
      "year              3387 non-null int64\n",
      "dtypes: float64(1), int64(1), object(3)\n",
      "memory usage: 132.4+ KB\n"
     ]
    }
   ],
   "source": [
    "movie_gross_df.info() # Checking to see if info matches in order to merge"
   ]
  },
  {
   "cell_type": "markdown",
   "metadata": {},
   "source": [
    "# Dropping Columns\n",
    "\n",
    "## Problem\n",
    "We've found missing data in **movie_gross_df**\n",
    "\n",
    "## Solution\n",
    "We use the dropna() method and set its' parameters as inplace=True. \n",
    "\n",
    "We set that specific key argument because that allows our changes to be inside that dataframe, acting as if it was a save and remember key."
   ]
  },
  {
   "cell_type": "code",
   "execution_count": 19,
   "metadata": {},
   "outputs": [],
   "source": [
    "# Dropping all missing values(NaN) inside the dataframe\n",
    "movie_gross_df.dropna(inplace=True)"
   ]
  },
  {
   "cell_type": "code",
   "execution_count": 20,
   "metadata": {},
   "outputs": [
    {
     "data": {
      "text/plain": [
       "title             0\n",
       "studio            0\n",
       "domestic_gross    0\n",
       "foreign_gross     0\n",
       "year              0\n",
       "dtype: int64"
      ]
     },
     "execution_count": 20,
     "metadata": {},
     "output_type": "execute_result"
    }
   ],
   "source": [
    "movie_gross_df.isna().sum() # Sums the amount of NaN's there are in each column"
   ]
  },
  {
   "cell_type": "code",
   "execution_count": 21,
   "metadata": {},
   "outputs": [
    {
     "data": {
      "text/plain": [
       "id                   0\n",
       "release_date         0\n",
       "movie                0\n",
       "production_budget    0\n",
       "domestic_gross       0\n",
       "worldwide_gross      0\n",
       "dtype: int64"
      ]
     },
     "execution_count": 21,
     "metadata": {},
     "output_type": "execute_result"
    }
   ],
   "source": [
    "movie_budget_df.isna().sum() # Sums the amount of NaN's there are in each column"
   ]
  },
  {
   "cell_type": "markdown",
   "metadata": {},
   "source": [
    "# Changing Column Names\n",
    "\n",
    "## Problem\n",
    "Not able to combine data without recieving NaN or an error because the column names were different\n",
    "\n",
    "## Solution\n",
    "Used the rename() method to change certain titles"
   ]
  },
  {
   "cell_type": "code",
   "execution_count": 22,
   "metadata": {},
   "outputs": [],
   "source": [
    "# Changing column names\n",
    "movie_gross_df = movie_gross_df.rename(columns={\"title\": \"movie\", \"foreign_gross\": \"worldwide_gross\"})"
   ]
  },
  {
   "cell_type": "code",
   "execution_count": 23,
   "metadata": {},
   "outputs": [
    {
     "data": {
      "text/html": [
       "<div>\n",
       "<style scoped>\n",
       "    .dataframe tbody tr th:only-of-type {\n",
       "        vertical-align: middle;\n",
       "    }\n",
       "\n",
       "    .dataframe tbody tr th {\n",
       "        vertical-align: top;\n",
       "    }\n",
       "\n",
       "    .dataframe thead th {\n",
       "        text-align: right;\n",
       "    }\n",
       "</style>\n",
       "<table border=\"1\" class=\"dataframe\">\n",
       "  <thead>\n",
       "    <tr style=\"text-align: right;\">\n",
       "      <th></th>\n",
       "      <th>id</th>\n",
       "      <th>release_date</th>\n",
       "      <th>movie</th>\n",
       "      <th>production_budget</th>\n",
       "      <th>domestic_gross</th>\n",
       "      <th>worldwide_gross</th>\n",
       "    </tr>\n",
       "  </thead>\n",
       "  <tbody>\n",
       "    <tr>\n",
       "      <th>0</th>\n",
       "      <td>1</td>\n",
       "      <td>Dec 18 2009</td>\n",
       "      <td>Avatar</td>\n",
       "      <td>425000000.0</td>\n",
       "      <td>760507625.0</td>\n",
       "      <td>2.776345e+09</td>\n",
       "    </tr>\n",
       "    <tr>\n",
       "      <th>1</th>\n",
       "      <td>2</td>\n",
       "      <td>May 20 2011</td>\n",
       "      <td>Pirates of the Caribbean: On Stranger Tides</td>\n",
       "      <td>410600000.0</td>\n",
       "      <td>241063875.0</td>\n",
       "      <td>1.045664e+09</td>\n",
       "    </tr>\n",
       "    <tr>\n",
       "      <th>2</th>\n",
       "      <td>3</td>\n",
       "      <td>Jun 7 2019</td>\n",
       "      <td>Dark Phoenix</td>\n",
       "      <td>350000000.0</td>\n",
       "      <td>42762350.0</td>\n",
       "      <td>1.497624e+08</td>\n",
       "    </tr>\n",
       "    <tr>\n",
       "      <th>3</th>\n",
       "      <td>4</td>\n",
       "      <td>May 1 2015</td>\n",
       "      <td>Avengers: Age of Ultron</td>\n",
       "      <td>330600000.0</td>\n",
       "      <td>459005868.0</td>\n",
       "      <td>1.403014e+09</td>\n",
       "    </tr>\n",
       "    <tr>\n",
       "      <th>4</th>\n",
       "      <td>5</td>\n",
       "      <td>Dec 15 2017</td>\n",
       "      <td>Star Wars Ep. VIII: The Last Jedi</td>\n",
       "      <td>317000000.0</td>\n",
       "      <td>620181382.0</td>\n",
       "      <td>1.316722e+09</td>\n",
       "    </tr>\n",
       "  </tbody>\n",
       "</table>\n",
       "</div>"
      ],
      "text/plain": [
       "   id release_date                                        movie  \\\n",
       "0   1  Dec 18 2009                                       Avatar   \n",
       "1   2  May 20 2011  Pirates of the Caribbean: On Stranger Tides   \n",
       "2   3   Jun 7 2019                                 Dark Phoenix   \n",
       "3   4   May 1 2015                      Avengers: Age of Ultron   \n",
       "4   5  Dec 15 2017            Star Wars Ep. VIII: The Last Jedi   \n",
       "\n",
       "   production_budget  domestic_gross  worldwide_gross  \n",
       "0        425000000.0     760507625.0     2.776345e+09  \n",
       "1        410600000.0     241063875.0     1.045664e+09  \n",
       "2        350000000.0      42762350.0     1.497624e+08  \n",
       "3        330600000.0     459005868.0     1.403014e+09  \n",
       "4        317000000.0     620181382.0     1.316722e+09  "
      ]
     },
     "execution_count": 23,
     "metadata": {},
     "output_type": "execute_result"
    }
   ],
   "source": [
    "movie_budget_df.head()"
   ]
  },
  {
   "cell_type": "markdown",
   "metadata": {},
   "source": [
    "# Adding 2 New Columns\n",
    "\n",
    "## Description\n",
    "Added 2 new columns that shows the ROI of worldwide and domestic "
   ]
  },
  {
   "cell_type": "code",
   "execution_count": 24,
   "metadata": {},
   "outputs": [],
   "source": [
    "percent = 100 # Defining the percent for we can convert a given number into percent form\n",
    "\n",
    "# Creating a new column that shows ROI\n",
    "movie_budget_df[\"worldwide_roi\"] = (movie_budget_df.worldwide_gross / movie_budget_df.production_budget) * percent\n",
    "movie_budget_df[\"domestic_roi\"] = (movie_budget_df.domestic_gross / movie_budget_df.production_budget) * percent"
   ]
  },
  {
   "cell_type": "code",
   "execution_count": 25,
   "metadata": {},
   "outputs": [
    {
     "data": {
      "text/html": [
       "<div>\n",
       "<style scoped>\n",
       "    .dataframe tbody tr th:only-of-type {\n",
       "        vertical-align: middle;\n",
       "    }\n",
       "\n",
       "    .dataframe tbody tr th {\n",
       "        vertical-align: top;\n",
       "    }\n",
       "\n",
       "    .dataframe thead th {\n",
       "        text-align: right;\n",
       "    }\n",
       "</style>\n",
       "<table border=\"1\" class=\"dataframe\">\n",
       "  <thead>\n",
       "    <tr style=\"text-align: right;\">\n",
       "      <th></th>\n",
       "      <th>id</th>\n",
       "      <th>release_date</th>\n",
       "      <th>movie</th>\n",
       "      <th>production_budget</th>\n",
       "      <th>domestic_gross</th>\n",
       "      <th>worldwide_gross</th>\n",
       "      <th>worldwide_roi</th>\n",
       "      <th>domestic_roi</th>\n",
       "    </tr>\n",
       "  </thead>\n",
       "  <tbody>\n",
       "    <tr>\n",
       "      <th>0</th>\n",
       "      <td>1</td>\n",
       "      <td>Dec 18 2009</td>\n",
       "      <td>Avatar</td>\n",
       "      <td>425000000.0</td>\n",
       "      <td>760507625.0</td>\n",
       "      <td>2.776345e+09</td>\n",
       "      <td>653.257713</td>\n",
       "      <td>178.942971</td>\n",
       "    </tr>\n",
       "    <tr>\n",
       "      <th>1</th>\n",
       "      <td>2</td>\n",
       "      <td>May 20 2011</td>\n",
       "      <td>Pirates of the Caribbean: On Stranger Tides</td>\n",
       "      <td>410600000.0</td>\n",
       "      <td>241063875.0</td>\n",
       "      <td>1.045664e+09</td>\n",
       "      <td>254.667286</td>\n",
       "      <td>58.710150</td>\n",
       "    </tr>\n",
       "    <tr>\n",
       "      <th>2</th>\n",
       "      <td>3</td>\n",
       "      <td>Jun 7 2019</td>\n",
       "      <td>Dark Phoenix</td>\n",
       "      <td>350000000.0</td>\n",
       "      <td>42762350.0</td>\n",
       "      <td>1.497624e+08</td>\n",
       "      <td>42.789243</td>\n",
       "      <td>12.217814</td>\n",
       "    </tr>\n",
       "    <tr>\n",
       "      <th>3</th>\n",
       "      <td>4</td>\n",
       "      <td>May 1 2015</td>\n",
       "      <td>Avengers: Age of Ultron</td>\n",
       "      <td>330600000.0</td>\n",
       "      <td>459005868.0</td>\n",
       "      <td>1.403014e+09</td>\n",
       "      <td>424.384139</td>\n",
       "      <td>138.840250</td>\n",
       "    </tr>\n",
       "    <tr>\n",
       "      <th>4</th>\n",
       "      <td>5</td>\n",
       "      <td>Dec 15 2017</td>\n",
       "      <td>Star Wars Ep. VIII: The Last Jedi</td>\n",
       "      <td>317000000.0</td>\n",
       "      <td>620181382.0</td>\n",
       "      <td>1.316722e+09</td>\n",
       "      <td>415.369636</td>\n",
       "      <td>195.640815</td>\n",
       "    </tr>\n",
       "  </tbody>\n",
       "</table>\n",
       "</div>"
      ],
      "text/plain": [
       "   id release_date                                        movie  \\\n",
       "0   1  Dec 18 2009                                       Avatar   \n",
       "1   2  May 20 2011  Pirates of the Caribbean: On Stranger Tides   \n",
       "2   3   Jun 7 2019                                 Dark Phoenix   \n",
       "3   4   May 1 2015                      Avengers: Age of Ultron   \n",
       "4   5  Dec 15 2017            Star Wars Ep. VIII: The Last Jedi   \n",
       "\n",
       "   production_budget  domestic_gross  worldwide_gross  worldwide_roi  \\\n",
       "0        425000000.0     760507625.0     2.776345e+09     653.257713   \n",
       "1        410600000.0     241063875.0     1.045664e+09     254.667286   \n",
       "2        350000000.0      42762350.0     1.497624e+08      42.789243   \n",
       "3        330600000.0     459005868.0     1.403014e+09     424.384139   \n",
       "4        317000000.0     620181382.0     1.316722e+09     415.369636   \n",
       "\n",
       "   domestic_roi  \n",
       "0    178.942971  \n",
       "1     58.710150  \n",
       "2     12.217814  \n",
       "3    138.840250  \n",
       "4    195.640815  "
      ]
     },
     "execution_count": 25,
     "metadata": {},
     "output_type": "execute_result"
    }
   ],
   "source": [
    "movie_budget_df.head()"
   ]
  },
  {
   "cell_type": "markdown",
   "metadata": {},
   "source": [
    "# Looking At **rt_info_df**\n",
    "\n",
    "## Description\n",
    "Using the **rt_info_df** dataframe we can possibly make 1 or 2 data visualizations:\n",
    "    \n",
    "- We can use this to choose what movie rating does a specific genre usually recieve\n",
    "\n",
    "- Or we can see a trend on what genres are being produced more in the following years, meaning, what genre is more likely to be produced, and is ok to produced now, rather than back then.\n",
    "\n",
    "**We can choose to use 1 of these suggestions or both**"
   ]
  },
  {
   "cell_type": "code",
   "execution_count": 26,
   "metadata": {},
   "outputs": [],
   "source": [
    "# Dropping all missing values, NaN.\n",
    "rt_info_df.dropna(inplace=True)"
   ]
  },
  {
   "cell_type": "code",
   "execution_count": 27,
   "metadata": {},
   "outputs": [
    {
     "data": {
      "text/html": [
       "<div>\n",
       "<style scoped>\n",
       "    .dataframe tbody tr th:only-of-type {\n",
       "        vertical-align: middle;\n",
       "    }\n",
       "\n",
       "    .dataframe tbody tr th {\n",
       "        vertical-align: top;\n",
       "    }\n",
       "\n",
       "    .dataframe thead th {\n",
       "        text-align: right;\n",
       "    }\n",
       "</style>\n",
       "<table border=\"1\" class=\"dataframe\">\n",
       "  <thead>\n",
       "    <tr style=\"text-align: right;\">\n",
       "      <th></th>\n",
       "      <th>id</th>\n",
       "      <th>synopsis</th>\n",
       "      <th>rating</th>\n",
       "      <th>genre</th>\n",
       "      <th>director</th>\n",
       "      <th>writer</th>\n",
       "      <th>theater_date</th>\n",
       "      <th>dvd_date</th>\n",
       "      <th>currency</th>\n",
       "      <th>box_office</th>\n",
       "      <th>runtime</th>\n",
       "      <th>studio</th>\n",
       "    </tr>\n",
       "  </thead>\n",
       "  <tbody>\n",
       "    <tr>\n",
       "      <th>1</th>\n",
       "      <td>3</td>\n",
       "      <td>New York City, not-too-distant-future: Eric Pa...</td>\n",
       "      <td>R</td>\n",
       "      <td>Drama|Science Fiction and Fantasy</td>\n",
       "      <td>David Cronenberg</td>\n",
       "      <td>David Cronenberg|Don DeLillo</td>\n",
       "      <td>Aug 17, 2012</td>\n",
       "      <td>Jan 1, 2013</td>\n",
       "      <td>$</td>\n",
       "      <td>600,000</td>\n",
       "      <td>108 minutes</td>\n",
       "      <td>Entertainment One</td>\n",
       "    </tr>\n",
       "    <tr>\n",
       "      <th>6</th>\n",
       "      <td>10</td>\n",
       "      <td>Some cast and crew from NBC's highly acclaimed...</td>\n",
       "      <td>PG-13</td>\n",
       "      <td>Comedy</td>\n",
       "      <td>Jake Kasdan</td>\n",
       "      <td>Mike White</td>\n",
       "      <td>Jan 11, 2002</td>\n",
       "      <td>Jun 18, 2002</td>\n",
       "      <td>$</td>\n",
       "      <td>41,032,915</td>\n",
       "      <td>82 minutes</td>\n",
       "      <td>Paramount Pictures</td>\n",
       "    </tr>\n",
       "    <tr>\n",
       "      <th>7</th>\n",
       "      <td>13</td>\n",
       "      <td>Stewart Kane, an Irishman living in the Austra...</td>\n",
       "      <td>R</td>\n",
       "      <td>Drama</td>\n",
       "      <td>Ray Lawrence</td>\n",
       "      <td>Raymond Carver|Beatrix Christian</td>\n",
       "      <td>Apr 27, 2006</td>\n",
       "      <td>Oct 2, 2007</td>\n",
       "      <td>$</td>\n",
       "      <td>224,114</td>\n",
       "      <td>123 minutes</td>\n",
       "      <td>Sony Pictures Classics</td>\n",
       "    </tr>\n",
       "    <tr>\n",
       "      <th>15</th>\n",
       "      <td>22</td>\n",
       "      <td>Two-time Academy Award Winner Kevin Spacey giv...</td>\n",
       "      <td>R</td>\n",
       "      <td>Comedy|Drama|Mystery and Suspense</td>\n",
       "      <td>George Hickenlooper</td>\n",
       "      <td>Norman Snider</td>\n",
       "      <td>Dec 17, 2010</td>\n",
       "      <td>Apr 5, 2011</td>\n",
       "      <td>$</td>\n",
       "      <td>1,039,869</td>\n",
       "      <td>108 minutes</td>\n",
       "      <td>ATO Pictures</td>\n",
       "    </tr>\n",
       "    <tr>\n",
       "      <th>18</th>\n",
       "      <td>25</td>\n",
       "      <td>From ancient Japan's most enduring tale, the e...</td>\n",
       "      <td>PG-13</td>\n",
       "      <td>Action and Adventure|Drama|Science Fiction and...</td>\n",
       "      <td>Carl Erik Rinsch</td>\n",
       "      <td>Chris Morgan|Hossein Amini</td>\n",
       "      <td>Dec 25, 2013</td>\n",
       "      <td>Apr 1, 2014</td>\n",
       "      <td>$</td>\n",
       "      <td>20,518,224</td>\n",
       "      <td>127 minutes</td>\n",
       "      <td>Universal Pictures</td>\n",
       "    </tr>\n",
       "  </tbody>\n",
       "</table>\n",
       "</div>"
      ],
      "text/plain": [
       "    id                                           synopsis rating  \\\n",
       "1    3  New York City, not-too-distant-future: Eric Pa...      R   \n",
       "6   10  Some cast and crew from NBC's highly acclaimed...  PG-13   \n",
       "7   13  Stewart Kane, an Irishman living in the Austra...      R   \n",
       "15  22  Two-time Academy Award Winner Kevin Spacey giv...      R   \n",
       "18  25  From ancient Japan's most enduring tale, the e...  PG-13   \n",
       "\n",
       "                                                genre             director  \\\n",
       "1                   Drama|Science Fiction and Fantasy     David Cronenberg   \n",
       "6                                              Comedy          Jake Kasdan   \n",
       "7                                               Drama         Ray Lawrence   \n",
       "15                  Comedy|Drama|Mystery and Suspense  George Hickenlooper   \n",
       "18  Action and Adventure|Drama|Science Fiction and...     Carl Erik Rinsch   \n",
       "\n",
       "                              writer  theater_date      dvd_date currency  \\\n",
       "1       David Cronenberg|Don DeLillo  Aug 17, 2012   Jan 1, 2013        $   \n",
       "6                         Mike White  Jan 11, 2002  Jun 18, 2002        $   \n",
       "7   Raymond Carver|Beatrix Christian  Apr 27, 2006   Oct 2, 2007        $   \n",
       "15                     Norman Snider  Dec 17, 2010   Apr 5, 2011        $   \n",
       "18        Chris Morgan|Hossein Amini  Dec 25, 2013   Apr 1, 2014        $   \n",
       "\n",
       "    box_office      runtime                  studio  \n",
       "1      600,000  108 minutes       Entertainment One  \n",
       "6   41,032,915   82 minutes      Paramount Pictures  \n",
       "7      224,114  123 minutes  Sony Pictures Classics  \n",
       "15   1,039,869  108 minutes            ATO Pictures  \n",
       "18  20,518,224  127 minutes      Universal Pictures  "
      ]
     },
     "execution_count": 27,
     "metadata": {},
     "output_type": "execute_result"
    }
   ],
   "source": [
    "rt_info_df.head() # We can use this to choose what movie rating does a specific genre usually recieve\n",
    "\n",
    "# Or we can see a trend on what genres are being produced more in the following years, meaning, what genre is more likely to be produced, and is ok to produced now, rather than back then."
   ]
  },
  {
   "cell_type": "code",
   "execution_count": 28,
   "metadata": {},
   "outputs": [],
   "source": [
    "# Changing column name\n",
    "rt_info_df = rt_info_df.rename(columns={\"theater_date\": \"release_date\"})"
   ]
  },
  {
   "cell_type": "markdown",
   "metadata": {},
   "source": [
    "# Changing More Of The **rt_info_df** Dataframe\n",
    "We want to create a data visualization around this data using ratings and years.\n",
    "\n",
    "## Problem\n",
    "There is not year column in order to create our data visualization.\n",
    "We also need to format our column to get just the year\n",
    "\n",
    "## Solution\n",
    "Used the **to_datetime()** method on our release date in order to transform the format\n",
    "\n",
    "Created a new column named **year** and got the year from the already formatted **release_date** column"
   ]
  },
  {
   "cell_type": "code",
   "execution_count": 29,
   "metadata": {},
   "outputs": [],
   "source": [
    "# Altering release_date column to only show years\n",
    "rt_info_df['release_date'] = pd.to_datetime(rt_info_df[\"release_date\"]) # Changes the release_date column to a date time format\n",
    "\n",
    "rt_info_df['year'] = rt_info_df['release_date'].dt.year # Creating a new column called years that shows only the years from the release_date column"
   ]
  },
  {
   "cell_type": "markdown",
   "metadata": {},
   "source": [
    "# Looking At What To Drop In **rt_info_df**\n",
    "There's data that will be irrelevant to our graph; this is shown in the year column and the ratings column\n",
    "\n",
    "## Problem\n",
    "Data that's not paramount to our graph\n",
    "\n",
    "## Solution\n",
    "We search for said irrelevant data using the **unique()** method. This will show the values that we have, without duplication.\n",
    "\n",
    "We then use the **value_counts()** method to check how many values there are for a key.\n",
    "\n",
    "We want to drop the rows that have small values attached to it.\n",
    "\n",
    "We want to drop our values using the **drop()** method and add said row's index.\n",
    "\n",
    "We find the index of a value by using **loc**. This returns the entire row(s) we are looking for.\n",
    "We can now use the **drop()** method and set the index that we want to drop"
   ]
  },
  {
   "cell_type": "code",
   "execution_count": 30,
   "metadata": {},
   "outputs": [
    {
     "data": {
      "text/plain": [
       "array([2012, 2002, 2006, 2010, 2013, 2004, 2003, 2011, 2016, 2001, 2009,\n",
       "       2000, 2005, 2015, 2007, 2014, 2008, 2017, 1974, 1993])"
      ]
     },
     "execution_count": 30,
     "metadata": {},
     "output_type": "execute_result"
    }
   ],
   "source": [
    "# Seeing years in our year column, so we can drop the ones we don't want\n",
    "rt_info_df.year.unique()"
   ]
  },
  {
   "cell_type": "code",
   "execution_count": 31,
   "metadata": {},
   "outputs": [
    {
     "data": {
      "text/plain": [
       "array(['R', 'PG-13', 'PG', 'NR', 'G', 'NC17'], dtype=object)"
      ]
     },
     "execution_count": 31,
     "metadata": {},
     "output_type": "execute_result"
    }
   ],
   "source": [
    "rt_info_df.rating.unique()"
   ]
  },
  {
   "cell_type": "code",
   "execution_count": 32,
   "metadata": {},
   "outputs": [
    {
     "data": {
      "text/plain": [
       "2010    18\n",
       "2004    18\n",
       "2007    17\n",
       "2006    17\n",
       "2013    16\n",
       "2009    16\n",
       "2012    15\n",
       "2011    14\n",
       "2005    14\n",
       "2003    14\n",
       "2002    14\n",
       "2016    11\n",
       "2008    10\n",
       "2001     9\n",
       "2015     9\n",
       "2014     9\n",
       "2017     7\n",
       "2000     5\n",
       "1993     1\n",
       "1974     1\n",
       "Name: year, dtype: int64"
      ]
     },
     "execution_count": 32,
     "metadata": {},
     "output_type": "execute_result"
    }
   ],
   "source": [
    "rt_info_df.year.value_counts()"
   ]
  },
  {
   "cell_type": "code",
   "execution_count": 33,
   "metadata": {},
   "outputs": [
    {
     "data": {
      "text/html": [
       "<div>\n",
       "<style scoped>\n",
       "    .dataframe tbody tr th:only-of-type {\n",
       "        vertical-align: middle;\n",
       "    }\n",
       "\n",
       "    .dataframe tbody tr th {\n",
       "        vertical-align: top;\n",
       "    }\n",
       "\n",
       "    .dataframe thead th {\n",
       "        text-align: right;\n",
       "    }\n",
       "</style>\n",
       "<table border=\"1\" class=\"dataframe\">\n",
       "  <thead>\n",
       "    <tr style=\"text-align: right;\">\n",
       "      <th></th>\n",
       "      <th>id</th>\n",
       "      <th>synopsis</th>\n",
       "      <th>rating</th>\n",
       "      <th>genre</th>\n",
       "      <th>director</th>\n",
       "      <th>writer</th>\n",
       "      <th>release_date</th>\n",
       "      <th>dvd_date</th>\n",
       "      <th>currency</th>\n",
       "      <th>box_office</th>\n",
       "      <th>runtime</th>\n",
       "      <th>studio</th>\n",
       "      <th>year</th>\n",
       "    </tr>\n",
       "  </thead>\n",
       "  <tbody>\n",
       "    <tr>\n",
       "      <th>691</th>\n",
       "      <td>884</td>\n",
       "      <td>Freebie (James Caan) and the Bean (Alan Arkin)...</td>\n",
       "      <td>R</td>\n",
       "      <td>Action and Adventure|Comedy|Drama</td>\n",
       "      <td>Richard Rush</td>\n",
       "      <td>Robert Kaufman</td>\n",
       "      <td>1974-12-25</td>\n",
       "      <td>Jan 11, 2011</td>\n",
       "      <td>$</td>\n",
       "      <td>8,300</td>\n",
       "      <td>114 minutes</td>\n",
       "      <td>Warner Bros. Pictures</td>\n",
       "      <td>1974</td>\n",
       "    </tr>\n",
       "  </tbody>\n",
       "</table>\n",
       "</div>"
      ],
      "text/plain": [
       "      id                                           synopsis rating  \\\n",
       "691  884  Freebie (James Caan) and the Bean (Alan Arkin)...      R   \n",
       "\n",
       "                                 genre      director          writer  \\\n",
       "691  Action and Adventure|Comedy|Drama  Richard Rush  Robert Kaufman   \n",
       "\n",
       "    release_date      dvd_date currency box_office      runtime  \\\n",
       "691   1974-12-25  Jan 11, 2011        $      8,300  114 minutes   \n",
       "\n",
       "                    studio  year  \n",
       "691  Warner Bros. Pictures  1974  "
      ]
     },
     "execution_count": 33,
     "metadata": {},
     "output_type": "execute_result"
    }
   ],
   "source": [
    "# Finding what this specific year's index is, so we can drop that row\n",
    "rt_info_df.loc[rt_info_df.year == 1974]"
   ]
  },
  {
   "cell_type": "code",
   "execution_count": 34,
   "metadata": {},
   "outputs": [
    {
     "data": {
      "text/html": [
       "<div>\n",
       "<style scoped>\n",
       "    .dataframe tbody tr th:only-of-type {\n",
       "        vertical-align: middle;\n",
       "    }\n",
       "\n",
       "    .dataframe tbody tr th {\n",
       "        vertical-align: top;\n",
       "    }\n",
       "\n",
       "    .dataframe thead th {\n",
       "        text-align: right;\n",
       "    }\n",
       "</style>\n",
       "<table border=\"1\" class=\"dataframe\">\n",
       "  <thead>\n",
       "    <tr style=\"text-align: right;\">\n",
       "      <th></th>\n",
       "      <th>id</th>\n",
       "      <th>synopsis</th>\n",
       "      <th>rating</th>\n",
       "      <th>genre</th>\n",
       "      <th>director</th>\n",
       "      <th>writer</th>\n",
       "      <th>release_date</th>\n",
       "      <th>dvd_date</th>\n",
       "      <th>currency</th>\n",
       "      <th>box_office</th>\n",
       "      <th>runtime</th>\n",
       "      <th>studio</th>\n",
       "      <th>year</th>\n",
       "    </tr>\n",
       "  </thead>\n",
       "  <tbody>\n",
       "    <tr>\n",
       "      <th>913</th>\n",
       "      <td>1180</td>\n",
       "      <td>Despite having recently presided over a very s...</td>\n",
       "      <td>PG</td>\n",
       "      <td>Animation|Kids and Family|Science Fiction and ...</td>\n",
       "      <td>Henry Selick|Tim Burton</td>\n",
       "      <td>Tim Burton|Caroline Thompson|Michael McDowell</td>\n",
       "      <td>1993-10-24</td>\n",
       "      <td>Dec 2, 1997</td>\n",
       "      <td>$</td>\n",
       "      <td>8,616,662</td>\n",
       "      <td>76 minutes</td>\n",
       "      <td>Touchstone Pictures</td>\n",
       "      <td>1993</td>\n",
       "    </tr>\n",
       "  </tbody>\n",
       "</table>\n",
       "</div>"
      ],
      "text/plain": [
       "       id                                           synopsis rating  \\\n",
       "913  1180  Despite having recently presided over a very s...     PG   \n",
       "\n",
       "                                                 genre  \\\n",
       "913  Animation|Kids and Family|Science Fiction and ...   \n",
       "\n",
       "                    director                                         writer  \\\n",
       "913  Henry Selick|Tim Burton  Tim Burton|Caroline Thompson|Michael McDowell   \n",
       "\n",
       "    release_date     dvd_date currency box_office     runtime  \\\n",
       "913   1993-10-24  Dec 2, 1997        $  8,616,662  76 minutes   \n",
       "\n",
       "                  studio  year  \n",
       "913  Touchstone Pictures  1993  "
      ]
     },
     "execution_count": 34,
     "metadata": {},
     "output_type": "execute_result"
    }
   ],
   "source": [
    "# Finding what this specific year's index is, so we can drop that row\n",
    "rt_info_df.loc[rt_info_df.year == 1993]"
   ]
  },
  {
   "cell_type": "code",
   "execution_count": 35,
   "metadata": {},
   "outputs": [],
   "source": [
    "rt_info_df.drop(index=913, inplace=True) # Dropping a year by its index"
   ]
  },
  {
   "cell_type": "code",
   "execution_count": 36,
   "metadata": {},
   "outputs": [],
   "source": [
    "rt_info_df.drop(index=691, inplace=True) # Dropping a year by its index"
   ]
  },
  {
   "cell_type": "markdown",
   "metadata": {},
   "source": [
    "# Dropping Certain Rating On **rt_info_df**\n",
    "Dropping irrelevant data\n",
    "\n",
    "## Problem\n",
    "In our dataframe there is a value that only shows up once.\n",
    "\n",
    "We want to git rid of that irrelevant data in order to have a more paramount representation of our data\n",
    "\n",
    "## Solution\n",
    "We use **loc** in order to find what row NC17 occupies.\n",
    "\n",
    "If we are able to get the index of NC17, we are able to use the **drop()** method to drop that row.\n",
    "\n",
    "We find the row and drop it. We then use the **inplace** argument and set it equals to \"True\" in order to keep that change inside the dataframe "
   ]
  },
  {
   "cell_type": "code",
   "execution_count": 37,
   "metadata": {},
   "outputs": [
    {
     "data": {
      "text/plain": [
       "R        104\n",
       "PG-13     77\n",
       "PG        37\n",
       "NR         9\n",
       "G          5\n",
       "NC17       1\n",
       "Name: rating, dtype: int64"
      ]
     },
     "execution_count": 37,
     "metadata": {},
     "output_type": "execute_result"
    }
   ],
   "source": [
    "rt_info_df.rating.value_counts()"
   ]
  },
  {
   "cell_type": "code",
   "execution_count": 38,
   "metadata": {},
   "outputs": [],
   "source": [
    "rating_df = pd.DataFrame(rt_info_df.groupby([\"rating\", \"year\"])[\"year\"].count())\n",
    "\n",
    "# renaming column from year to count\n",
    "rating_df.columns = [\"count\"]\n",
    "\n",
    "# to_records at end and pd.Dataframe again"
   ]
  },
  {
   "cell_type": "code",
   "execution_count": 39,
   "metadata": {},
   "outputs": [],
   "source": [
    "rating_df = pd.DataFrame(rating_df.to_records())"
   ]
  },
  {
   "cell_type": "code",
   "execution_count": 40,
   "metadata": {},
   "outputs": [
    {
     "data": {
      "text/plain": [
       "rating\n",
       "G          5\n",
       "NC17       1\n",
       "NR         9\n",
       "PG        37\n",
       "PG-13     77\n",
       "R        104\n",
       "Name: year, dtype: int64"
      ]
     },
     "execution_count": 40,
     "metadata": {},
     "output_type": "execute_result"
    }
   ],
   "source": [
    "rt_info_df.groupby([\"rating\"])[\"year\"].count()"
   ]
  },
  {
   "cell_type": "code",
   "execution_count": 41,
   "metadata": {},
   "outputs": [
    {
     "data": {
      "text/html": [
       "<div>\n",
       "<style scoped>\n",
       "    .dataframe tbody tr th:only-of-type {\n",
       "        vertical-align: middle;\n",
       "    }\n",
       "\n",
       "    .dataframe tbody tr th {\n",
       "        vertical-align: top;\n",
       "    }\n",
       "\n",
       "    .dataframe thead th {\n",
       "        text-align: right;\n",
       "    }\n",
       "</style>\n",
       "<table border=\"1\" class=\"dataframe\">\n",
       "  <thead>\n",
       "    <tr style=\"text-align: right;\">\n",
       "      <th></th>\n",
       "      <th>year</th>\n",
       "    </tr>\n",
       "    <tr>\n",
       "      <th>rating</th>\n",
       "      <th></th>\n",
       "    </tr>\n",
       "  </thead>\n",
       "  <tbody>\n",
       "    <tr>\n",
       "      <th>G</th>\n",
       "      <td>5</td>\n",
       "    </tr>\n",
       "    <tr>\n",
       "      <th>NC17</th>\n",
       "      <td>1</td>\n",
       "    </tr>\n",
       "    <tr>\n",
       "      <th>NR</th>\n",
       "      <td>9</td>\n",
       "    </tr>\n",
       "    <tr>\n",
       "      <th>PG</th>\n",
       "      <td>37</td>\n",
       "    </tr>\n",
       "    <tr>\n",
       "      <th>PG-13</th>\n",
       "      <td>77</td>\n",
       "    </tr>\n",
       "    <tr>\n",
       "      <th>R</th>\n",
       "      <td>104</td>\n",
       "    </tr>\n",
       "  </tbody>\n",
       "</table>\n",
       "</div>"
      ],
      "text/plain": [
       "        year\n",
       "rating      \n",
       "G          5\n",
       "NC17       1\n",
       "NR         9\n",
       "PG        37\n",
       "PG-13     77\n",
       "R        104"
      ]
     },
     "execution_count": 41,
     "metadata": {},
     "output_type": "execute_result"
    }
   ],
   "source": [
    "# Changing to DF to get to_records()\n",
    "pd.DataFrame(rt_info_df.groupby([\"rating\"])[\"year\"].count())"
   ]
  },
  {
   "cell_type": "code",
   "execution_count": 42,
   "metadata": {},
   "outputs": [
    {
     "data": {
      "text/html": [
       "<div>\n",
       "<style scoped>\n",
       "    .dataframe tbody tr th:only-of-type {\n",
       "        vertical-align: middle;\n",
       "    }\n",
       "\n",
       "    .dataframe tbody tr th {\n",
       "        vertical-align: top;\n",
       "    }\n",
       "\n",
       "    .dataframe thead th {\n",
       "        text-align: right;\n",
       "    }\n",
       "</style>\n",
       "<table border=\"1\" class=\"dataframe\">\n",
       "  <thead>\n",
       "    <tr style=\"text-align: right;\">\n",
       "      <th></th>\n",
       "      <th>id</th>\n",
       "      <th>synopsis</th>\n",
       "      <th>rating</th>\n",
       "      <th>genre</th>\n",
       "      <th>director</th>\n",
       "      <th>writer</th>\n",
       "      <th>release_date</th>\n",
       "      <th>dvd_date</th>\n",
       "      <th>currency</th>\n",
       "      <th>box_office</th>\n",
       "      <th>runtime</th>\n",
       "      <th>studio</th>\n",
       "      <th>year</th>\n",
       "    </tr>\n",
       "  </thead>\n",
       "  <tbody>\n",
       "    <tr>\n",
       "      <th>1215</th>\n",
       "      <td>1567</td>\n",
       "      <td>Lust is in the air on Harford Road and Sylvia ...</td>\n",
       "      <td>NC17</td>\n",
       "      <td>Comedy</td>\n",
       "      <td>John Waters</td>\n",
       "      <td>John Waters</td>\n",
       "      <td>2004-09-24</td>\n",
       "      <td>Jun 14, 2005</td>\n",
       "      <td>$</td>\n",
       "      <td>1,260,219</td>\n",
       "      <td>89 minutes</td>\n",
       "      <td>New Line Cinema</td>\n",
       "      <td>2004</td>\n",
       "    </tr>\n",
       "  </tbody>\n",
       "</table>\n",
       "</div>"
      ],
      "text/plain": [
       "        id                                           synopsis rating   genre  \\\n",
       "1215  1567  Lust is in the air on Harford Road and Sylvia ...   NC17  Comedy   \n",
       "\n",
       "         director       writer release_date      dvd_date currency box_office  \\\n",
       "1215  John Waters  John Waters   2004-09-24  Jun 14, 2005        $  1,260,219   \n",
       "\n",
       "         runtime           studio  year  \n",
       "1215  89 minutes  New Line Cinema  2004  "
      ]
     },
     "execution_count": 42,
     "metadata": {},
     "output_type": "execute_result"
    }
   ],
   "source": [
    "# Finding the row for NC17 in order to retrive its index, that way we can drop the row\n",
    "rt_info_df.loc[rt_info_df.rating == \"NC17\"] # Index is 1215"
   ]
  },
  {
   "cell_type": "code",
   "execution_count": 43,
   "metadata": {},
   "outputs": [],
   "source": [
    "# Found NC17's row information. Now we can delete the row\n",
    "rt_info_df.drop(index=1215, inplace=True)"
   ]
  },
  {
   "cell_type": "markdown",
   "metadata": {},
   "source": [
    "# Using **movies_df**\n",
    "\n",
    "## Description\n",
    "Able to use the **movie_df** dataframe and compare which genres recieves high votes. This will allow us to see what genres people want more of\n",
    "\n",
    "## Problem\n",
    "The **movie_df** has the genre_ids column in ids/codes. The reader does not understand what the numbers in the genre_ids column of **movie_df** mean.\n",
    "\n",
    "## Solution\n",
    "Able to google genre ids and put it into a dictionary. The genre name is the key, while the values are the genre ids.\n",
    "\n",
    "This allows us to match the ids in the dataframe to the genre dictionary's keys.\n",
    "\n",
    "If the keys in the dictionary match the numbers/ids in the genre_id column then it will replace it with the dictionary's values, which are the genre names."
   ]
  },
  {
   "cell_type": "code",
   "execution_count": 44,
   "metadata": {},
   "outputs": [
    {
     "data": {
      "text/html": [
       "<div>\n",
       "<style scoped>\n",
       "    .dataframe tbody tr th:only-of-type {\n",
       "        vertical-align: middle;\n",
       "    }\n",
       "\n",
       "    .dataframe tbody tr th {\n",
       "        vertical-align: top;\n",
       "    }\n",
       "\n",
       "    .dataframe thead th {\n",
       "        text-align: right;\n",
       "    }\n",
       "</style>\n",
       "<table border=\"1\" class=\"dataframe\">\n",
       "  <thead>\n",
       "    <tr style=\"text-align: right;\">\n",
       "      <th></th>\n",
       "      <th>Unnamed: 0</th>\n",
       "      <th>genre_ids</th>\n",
       "      <th>id</th>\n",
       "      <th>original_language</th>\n",
       "      <th>original_title</th>\n",
       "      <th>popularity</th>\n",
       "      <th>release_date</th>\n",
       "      <th>title</th>\n",
       "      <th>vote_average</th>\n",
       "      <th>vote_count</th>\n",
       "    </tr>\n",
       "  </thead>\n",
       "  <tbody>\n",
       "    <tr>\n",
       "      <th>0</th>\n",
       "      <td>0</td>\n",
       "      <td>[12, 14, 10751]</td>\n",
       "      <td>12444</td>\n",
       "      <td>en</td>\n",
       "      <td>Harry Potter and the Deathly Hallows: Part 1</td>\n",
       "      <td>33.533</td>\n",
       "      <td>2010-11-19</td>\n",
       "      <td>Harry Potter and the Deathly Hallows: Part 1</td>\n",
       "      <td>7.7</td>\n",
       "      <td>10788</td>\n",
       "    </tr>\n",
       "    <tr>\n",
       "      <th>1</th>\n",
       "      <td>1</td>\n",
       "      <td>[14, 12, 16, 10751]</td>\n",
       "      <td>10191</td>\n",
       "      <td>en</td>\n",
       "      <td>How to Train Your Dragon</td>\n",
       "      <td>28.734</td>\n",
       "      <td>2010-03-26</td>\n",
       "      <td>How to Train Your Dragon</td>\n",
       "      <td>7.7</td>\n",
       "      <td>7610</td>\n",
       "    </tr>\n",
       "    <tr>\n",
       "      <th>2</th>\n",
       "      <td>2</td>\n",
       "      <td>[12, 28, 878]</td>\n",
       "      <td>10138</td>\n",
       "      <td>en</td>\n",
       "      <td>Iron Man 2</td>\n",
       "      <td>28.515</td>\n",
       "      <td>2010-05-07</td>\n",
       "      <td>Iron Man 2</td>\n",
       "      <td>6.8</td>\n",
       "      <td>12368</td>\n",
       "    </tr>\n",
       "    <tr>\n",
       "      <th>3</th>\n",
       "      <td>3</td>\n",
       "      <td>[16, 35, 10751]</td>\n",
       "      <td>862</td>\n",
       "      <td>en</td>\n",
       "      <td>Toy Story</td>\n",
       "      <td>28.005</td>\n",
       "      <td>1995-11-22</td>\n",
       "      <td>Toy Story</td>\n",
       "      <td>7.9</td>\n",
       "      <td>10174</td>\n",
       "    </tr>\n",
       "    <tr>\n",
       "      <th>4</th>\n",
       "      <td>4</td>\n",
       "      <td>[28, 878, 12]</td>\n",
       "      <td>27205</td>\n",
       "      <td>en</td>\n",
       "      <td>Inception</td>\n",
       "      <td>27.920</td>\n",
       "      <td>2010-07-16</td>\n",
       "      <td>Inception</td>\n",
       "      <td>8.3</td>\n",
       "      <td>22186</td>\n",
       "    </tr>\n",
       "  </tbody>\n",
       "</table>\n",
       "</div>"
      ],
      "text/plain": [
       "   Unnamed: 0            genre_ids     id original_language  \\\n",
       "0           0      [12, 14, 10751]  12444                en   \n",
       "1           1  [14, 12, 16, 10751]  10191                en   \n",
       "2           2        [12, 28, 878]  10138                en   \n",
       "3           3      [16, 35, 10751]    862                en   \n",
       "4           4        [28, 878, 12]  27205                en   \n",
       "\n",
       "                                 original_title  popularity release_date  \\\n",
       "0  Harry Potter and the Deathly Hallows: Part 1      33.533   2010-11-19   \n",
       "1                      How to Train Your Dragon      28.734   2010-03-26   \n",
       "2                                    Iron Man 2      28.515   2010-05-07   \n",
       "3                                     Toy Story      28.005   1995-11-22   \n",
       "4                                     Inception      27.920   2010-07-16   \n",
       "\n",
       "                                          title  vote_average  vote_count  \n",
       "0  Harry Potter and the Deathly Hallows: Part 1           7.7       10788  \n",
       "1                      How to Train Your Dragon           7.7        7610  \n",
       "2                                    Iron Man 2           6.8       12368  \n",
       "3                                     Toy Story           7.9       10174  \n",
       "4                                     Inception           8.3       22186  "
      ]
     },
     "execution_count": 44,
     "metadata": {},
     "output_type": "execute_result"
    }
   ],
   "source": [
    "movies_df.head()"
   ]
  },
  {
   "cell_type": "code",
   "execution_count": 45,
   "metadata": {},
   "outputs": [],
   "source": [
    "genre_id_in_str = {\"action\": \"28\", \"animated\": \"16\", \"documentary\": \"99\", \"drama\": \"18\",\n",
    "            \"family\": \"10751\", \"fantasy\": \"14\", \"history\": \"36\", \"comedy\": \"35\", \n",
    "            \"war\": \"10752\", \"crime\": \"80\", \"music\": \"10402\", \"mystery\": \"9648\",\n",
    "            \"romance\": \"10749\", \"sci fi\": \"878\", \"horror\": \"27\",\n",
    "            \"TV movie\": \"10770\", \"thriller\": \"53\", \"western\": \"37\", \n",
    "            \"adventure\": \"12\"}"
   ]
  },
  {
   "cell_type": "code",
   "execution_count": 46,
   "metadata": {},
   "outputs": [],
   "source": [
    "genre_id = {\"action\": 28, \"animated\": 16, \"documentary\": 99, \"drama\": 18,\n",
    "            \"family\": 10751, \"fantasy\": 14, \"history\": 36, \"comedy\": 35, \n",
    "            \"war\": 10752, \"crime\": 80, \"music\": 10402, \"mystery\": 9648,\n",
    "            \"romance\": 10749, \"sci fi\": 878, \"horror\": 27,\n",
    "            \"TV movie\": 10770, \"thriller\": 53, \"western\": 37, \n",
    "            \"adventure\": 12}"
   ]
  },
  {
   "cell_type": "code",
   "execution_count": 47,
   "metadata": {},
   "outputs": [
    {
     "data": {
      "text/plain": [
       "dict_items([('action', 28), ('animated', 16), ('documentary', 99), ('drama', 18), ('family', 10751), ('fantasy', 14), ('history', 36), ('comedy', 35), ('war', 10752), ('crime', 80), ('music', 10402), ('mystery', 9648), ('romance', 10749), ('sci fi', 878), ('horror', 27), ('TV movie', 10770), ('thriller', 53), ('western', 37), ('adventure', 12)])"
      ]
     },
     "execution_count": 47,
     "metadata": {},
     "output_type": "execute_result"
    }
   ],
   "source": [
    "# Returns ALL key, value pairs in a tuple\n",
    "genre_id.items()"
   ]
  },
  {
   "cell_type": "code",
   "execution_count": 48,
   "metadata": {},
   "outputs": [],
   "source": [
    "# If the genre_ids in movies_df match the values \n",
    "# in the genre id dict, replace it with the genre id dict's keys   \n",
    "def fetch_genre(dataframe):\n",
    "    for key, values in genre_id_in_str.items():\n",
    "        for value in values:\n",
    "            if value in dataframe:\n",
    "                return key"
   ]
  },
  {
   "cell_type": "code",
   "execution_count": 49,
   "metadata": {},
   "outputs": [],
   "source": [
    "# ONLY RUN THIS CODE BLOCK 1 TIME, OR YOU WILL RECIEVE AN ERROR AND HAVE TO RUN IT FROM THE TOP\n",
    "movies_df[\"genre_ids\"] = movies_df[\"genre_ids\"].apply(fetch_genre)"
   ]
  },
  {
   "cell_type": "code",
   "execution_count": 50,
   "metadata": {},
   "outputs": [
    {
     "data": {
      "text/html": [
       "<div>\n",
       "<style scoped>\n",
       "    .dataframe tbody tr th:only-of-type {\n",
       "        vertical-align: middle;\n",
       "    }\n",
       "\n",
       "    .dataframe tbody tr th {\n",
       "        vertical-align: top;\n",
       "    }\n",
       "\n",
       "    .dataframe thead th {\n",
       "        text-align: right;\n",
       "    }\n",
       "</style>\n",
       "<table border=\"1\" class=\"dataframe\">\n",
       "  <thead>\n",
       "    <tr style=\"text-align: right;\">\n",
       "      <th></th>\n",
       "      <th>Unnamed: 0</th>\n",
       "      <th>genre_ids</th>\n",
       "      <th>id</th>\n",
       "      <th>original_language</th>\n",
       "      <th>original_title</th>\n",
       "      <th>popularity</th>\n",
       "      <th>release_date</th>\n",
       "      <th>title</th>\n",
       "      <th>vote_average</th>\n",
       "      <th>vote_count</th>\n",
       "    </tr>\n",
       "  </thead>\n",
       "  <tbody>\n",
       "    <tr>\n",
       "      <th>0</th>\n",
       "      <td>0</td>\n",
       "      <td>action</td>\n",
       "      <td>12444</td>\n",
       "      <td>en</td>\n",
       "      <td>Harry Potter and the Deathly Hallows: Part 1</td>\n",
       "      <td>33.533</td>\n",
       "      <td>2010-11-19</td>\n",
       "      <td>Harry Potter and the Deathly Hallows: Part 1</td>\n",
       "      <td>7.7</td>\n",
       "      <td>10788</td>\n",
       "    </tr>\n",
       "    <tr>\n",
       "      <th>1</th>\n",
       "      <td>1</td>\n",
       "      <td>action</td>\n",
       "      <td>10191</td>\n",
       "      <td>en</td>\n",
       "      <td>How to Train Your Dragon</td>\n",
       "      <td>28.734</td>\n",
       "      <td>2010-03-26</td>\n",
       "      <td>How to Train Your Dragon</td>\n",
       "      <td>7.7</td>\n",
       "      <td>7610</td>\n",
       "    </tr>\n",
       "    <tr>\n",
       "      <th>2</th>\n",
       "      <td>2</td>\n",
       "      <td>action</td>\n",
       "      <td>10138</td>\n",
       "      <td>en</td>\n",
       "      <td>Iron Man 2</td>\n",
       "      <td>28.515</td>\n",
       "      <td>2010-05-07</td>\n",
       "      <td>Iron Man 2</td>\n",
       "      <td>6.8</td>\n",
       "      <td>12368</td>\n",
       "    </tr>\n",
       "    <tr>\n",
       "      <th>3</th>\n",
       "      <td>3</td>\n",
       "      <td>animated</td>\n",
       "      <td>862</td>\n",
       "      <td>en</td>\n",
       "      <td>Toy Story</td>\n",
       "      <td>28.005</td>\n",
       "      <td>1995-11-22</td>\n",
       "      <td>Toy Story</td>\n",
       "      <td>7.9</td>\n",
       "      <td>10174</td>\n",
       "    </tr>\n",
       "    <tr>\n",
       "      <th>4</th>\n",
       "      <td>4</td>\n",
       "      <td>action</td>\n",
       "      <td>27205</td>\n",
       "      <td>en</td>\n",
       "      <td>Inception</td>\n",
       "      <td>27.920</td>\n",
       "      <td>2010-07-16</td>\n",
       "      <td>Inception</td>\n",
       "      <td>8.3</td>\n",
       "      <td>22186</td>\n",
       "    </tr>\n",
       "  </tbody>\n",
       "</table>\n",
       "</div>"
      ],
      "text/plain": [
       "   Unnamed: 0 genre_ids     id original_language  \\\n",
       "0           0    action  12444                en   \n",
       "1           1    action  10191                en   \n",
       "2           2    action  10138                en   \n",
       "3           3  animated    862                en   \n",
       "4           4    action  27205                en   \n",
       "\n",
       "                                 original_title  popularity release_date  \\\n",
       "0  Harry Potter and the Deathly Hallows: Part 1      33.533   2010-11-19   \n",
       "1                      How to Train Your Dragon      28.734   2010-03-26   \n",
       "2                                    Iron Man 2      28.515   2010-05-07   \n",
       "3                                     Toy Story      28.005   1995-11-22   \n",
       "4                                     Inception      27.920   2010-07-16   \n",
       "\n",
       "                                          title  vote_average  vote_count  \n",
       "0  Harry Potter and the Deathly Hallows: Part 1           7.7       10788  \n",
       "1                      How to Train Your Dragon           7.7        7610  \n",
       "2                                    Iron Man 2           6.8       12368  \n",
       "3                                     Toy Story           7.9       10174  \n",
       "4                                     Inception           8.3       22186  "
      ]
     },
     "execution_count": 50,
     "metadata": {},
     "output_type": "execute_result"
    }
   ],
   "source": [
    "movies_df.head()"
   ]
  },
  {
   "cell_type": "code",
   "execution_count": 51,
   "metadata": {},
   "outputs": [],
   "source": [
    "# Renaming certain columns\n",
    "movies_df = movies_df.rename(columns={\"title\": \"movie\"})"
   ]
  },
  {
   "cell_type": "code",
   "execution_count": 52,
   "metadata": {},
   "outputs": [
    {
     "data": {
      "text/html": [
       "<div>\n",
       "<style scoped>\n",
       "    .dataframe tbody tr th:only-of-type {\n",
       "        vertical-align: middle;\n",
       "    }\n",
       "\n",
       "    .dataframe tbody tr th {\n",
       "        vertical-align: top;\n",
       "    }\n",
       "\n",
       "    .dataframe thead th {\n",
       "        text-align: right;\n",
       "    }\n",
       "</style>\n",
       "<table border=\"1\" class=\"dataframe\">\n",
       "  <thead>\n",
       "    <tr style=\"text-align: right;\">\n",
       "      <th></th>\n",
       "      <th>Unnamed: 0</th>\n",
       "      <th>genre_ids</th>\n",
       "      <th>id</th>\n",
       "      <th>original_language</th>\n",
       "      <th>original_title</th>\n",
       "      <th>popularity</th>\n",
       "      <th>release_date</th>\n",
       "      <th>movie</th>\n",
       "      <th>vote_average</th>\n",
       "      <th>vote_count</th>\n",
       "    </tr>\n",
       "  </thead>\n",
       "  <tbody>\n",
       "    <tr>\n",
       "      <th>0</th>\n",
       "      <td>0</td>\n",
       "      <td>action</td>\n",
       "      <td>12444</td>\n",
       "      <td>en</td>\n",
       "      <td>Harry Potter and the Deathly Hallows: Part 1</td>\n",
       "      <td>33.533</td>\n",
       "      <td>2010-11-19</td>\n",
       "      <td>Harry Potter and the Deathly Hallows: Part 1</td>\n",
       "      <td>7.7</td>\n",
       "      <td>10788</td>\n",
       "    </tr>\n",
       "    <tr>\n",
       "      <th>1</th>\n",
       "      <td>1</td>\n",
       "      <td>action</td>\n",
       "      <td>10191</td>\n",
       "      <td>en</td>\n",
       "      <td>How to Train Your Dragon</td>\n",
       "      <td>28.734</td>\n",
       "      <td>2010-03-26</td>\n",
       "      <td>How to Train Your Dragon</td>\n",
       "      <td>7.7</td>\n",
       "      <td>7610</td>\n",
       "    </tr>\n",
       "    <tr>\n",
       "      <th>2</th>\n",
       "      <td>2</td>\n",
       "      <td>action</td>\n",
       "      <td>10138</td>\n",
       "      <td>en</td>\n",
       "      <td>Iron Man 2</td>\n",
       "      <td>28.515</td>\n",
       "      <td>2010-05-07</td>\n",
       "      <td>Iron Man 2</td>\n",
       "      <td>6.8</td>\n",
       "      <td>12368</td>\n",
       "    </tr>\n",
       "    <tr>\n",
       "      <th>3</th>\n",
       "      <td>3</td>\n",
       "      <td>animated</td>\n",
       "      <td>862</td>\n",
       "      <td>en</td>\n",
       "      <td>Toy Story</td>\n",
       "      <td>28.005</td>\n",
       "      <td>1995-11-22</td>\n",
       "      <td>Toy Story</td>\n",
       "      <td>7.9</td>\n",
       "      <td>10174</td>\n",
       "    </tr>\n",
       "    <tr>\n",
       "      <th>4</th>\n",
       "      <td>4</td>\n",
       "      <td>action</td>\n",
       "      <td>27205</td>\n",
       "      <td>en</td>\n",
       "      <td>Inception</td>\n",
       "      <td>27.920</td>\n",
       "      <td>2010-07-16</td>\n",
       "      <td>Inception</td>\n",
       "      <td>8.3</td>\n",
       "      <td>22186</td>\n",
       "    </tr>\n",
       "  </tbody>\n",
       "</table>\n",
       "</div>"
      ],
      "text/plain": [
       "   Unnamed: 0 genre_ids     id original_language  \\\n",
       "0           0    action  12444                en   \n",
       "1           1    action  10191                en   \n",
       "2           2    action  10138                en   \n",
       "3           3  animated    862                en   \n",
       "4           4    action  27205                en   \n",
       "\n",
       "                                 original_title  popularity release_date  \\\n",
       "0  Harry Potter and the Deathly Hallows: Part 1      33.533   2010-11-19   \n",
       "1                      How to Train Your Dragon      28.734   2010-03-26   \n",
       "2                                    Iron Man 2      28.515   2010-05-07   \n",
       "3                                     Toy Story      28.005   1995-11-22   \n",
       "4                                     Inception      27.920   2010-07-16   \n",
       "\n",
       "                                          movie  vote_average  vote_count  \n",
       "0  Harry Potter and the Deathly Hallows: Part 1           7.7       10788  \n",
       "1                      How to Train Your Dragon           7.7        7610  \n",
       "2                                    Iron Man 2           6.8       12368  \n",
       "3                                     Toy Story           7.9       10174  \n",
       "4                                     Inception           8.3       22186  "
      ]
     },
     "execution_count": 52,
     "metadata": {},
     "output_type": "execute_result"
    }
   ],
   "source": [
    "movies_df.head()"
   ]
  },
  {
   "cell_type": "code",
   "execution_count": null,
   "metadata": {
    "jupyter": {
     "source_hidden": true
    }
   },
   "outputs": [],
   "source": []
  },
  {
   "cell_type": "markdown",
   "metadata": {},
   "source": [
    "# **DATA VISUALIZATIONS**\n",
    "Bubble Plot\n",
    "\n",
    "## **rt_info_df**\n",
    "Using Ratings, Years, and number of Occurrences"
   ]
  },
  {
   "cell_type": "code",
   "execution_count": 53,
   "metadata": {},
   "outputs": [
    {
     "data": {
      "text/plain": [
       "array([2012, 2002, 2006, 2010, 2013, 2004, 2003, 2011, 2016, 2001, 2009,\n",
       "       2000, 2005, 2015, 2007, 2014, 2008, 2017])"
      ]
     },
     "execution_count": 53,
     "metadata": {},
     "output_type": "execute_result"
    }
   ],
   "source": [
    "rt_info_df.year.unique()"
   ]
  },
  {
   "cell_type": "code",
   "execution_count": 54,
   "metadata": {},
   "outputs": [
    {
     "data": {
      "text/plain": [
       "array(['R', 'PG-13', 'PG', 'NR', 'G'], dtype=object)"
      ]
     },
     "execution_count": 54,
     "metadata": {},
     "output_type": "execute_result"
    }
   ],
   "source": [
    "rt_info_df.rating.unique()"
   ]
  },
  {
   "cell_type": "code",
   "execution_count": 62,
   "metadata": {},
   "outputs": [
    {
     "data": {
      "image/png": "[encoded data removed]",
      "text/plain": [
       "<Figure size 720x504 with 1 Axes>"
      ]
     },
     "metadata": {
      "needs_background": "light"
     },
     "output_type": "display_data"
    }
   ],
   "source": [
    "# Changing the size of the figure in inches\n",
    "plt.figure(figsize=(10, 7))\n",
    "\n",
    "# z-axis\n",
    "z = rating_df[\"count\"]\n",
    "\n",
    "\n",
    "# Ttick Marks\n",
    "plt.yticks(fontsize=15)\n",
    "plt.xticks(fontsize=15 )\n",
    "\n",
    "# Labels\n",
    "plt.ylabel(\"Movie Ratings\", fontsize=20)\n",
    "plt.xlabel(\"Years\", fontsize=20)\n",
    "plt.title(\"Ratings per Year\", fontsize=30)\n",
    "\n",
    "# MAKING OUR PLOT\n",
    "plt.scatter(rating_df.year, rating_df.rating, \n",
    "            s=rating_df[\"count\"]*300, \n",
    "            color=\"blue\", alpha=0.4, \n",
    "            label=\"# Of Occurrences\", edgecolors=\"gold\")\n",
    "\n",
    "# Doesnt Cut off data that's we are using\n",
    "plt.tight_layout()\n",
    "\n",
    "plt.legend(loc='upper center', \n",
    "           bbox_to_anchor=(0.9, -0.05), \n",
    "           shadow=True)\n",
    "\n",
    "plt.show()"
   ]
  },
  {
   "cell_type": "markdown",
   "metadata": {},
   "source": [
    "# OTHER DATA VISUALIZATION"
   ]
  },
  {
   "cell_type": "code",
   "execution_count": 56,
   "metadata": {},
   "outputs": [],
   "source": [
    "movie_budget_df['domestic_roi']=(movie_budget_df['domestic_gross']-movie_budget_df['production_budget'])/movie_budget_df['production_budget']\n",
    "movie_budget_df['worldwide_roi']=(movie_budget_df['worldwide_gross']-movie_budget_df['production_budget'])/movie_budget_df['production_budget']"
   ]
  },
  {
   "cell_type": "code",
   "execution_count": null,
   "metadata": {},
   "outputs": [],
   "source": [
    "movie_budget_df['release_date']=pd.to_datetime(movie_budget_df['release_date']) #converting release date to datetime object\n",
    "movie_budget_df['year']=movie_budget_df['release_date'].dt.year\n",
    "movie_budget_df['month']=movie_budget_df['release_date'].dt.month\n",
    "movie_budget_df['year'].unique()"
   ]
  },
  {
   "cell_type": "code",
   "execution_count": null,
   "metadata": {},
   "outputs": [],
   "source": [
    "time_df=movie_budget_df.loc[(movie_budget_df['year']>=2010) & (movie_budget_df['year']<2020)]\n",
    "time_df.head()\n",
    "print(time_df['domestic_roi'].min())\n",
    "print(time_df['domestic_roi'].max())\n",
    "time_df.loc[time_df['domestic_roi']==time_df['domestic_roi'].max(),'movie']"
   ]
  },
  {
   "cell_type": "code",
   "execution_count": null,
   "metadata": {},
   "outputs": [],
   "source": [
    "sns.set_style('darkgrid')\n",
    "sns.set_context('poster')\n",
    "plt.figure(figsize=(18, 8))\n",
    "g1=sns.boxplot(x='year',y='domestic_roi',data=time_df)\n",
    "g1.set(xlabel = \"Year\", ylabel='Domestic ROI(units in 100%)' , title= 'Domestic ROI by Year')\n",
    "g1.set(ylim=(-2, 6))\n",
    "\n",
    "plt.savefig('dom_year.png')\n",
    "plt.show(g1)"
   ]
  },
  {
   "cell_type": "code",
   "execution_count": null,
   "metadata": {},
   "outputs": [],
   "source": [
    "plt.figure(figsize=(18, 8))\n",
    "g2=sns.boxplot(x='year',y='worldwide_roi',data=time_df)\n",
    "g2.set(xlabel = \"Year\", ylabel='Worldwide ROI (units in 100%)', title='Worldwide ROI by Year')\n",
    "g2.set(ylim=(-2, 8))\n",
    "plt.savefig('wol_year.png')\n",
    "plt.show(g2)"
   ]
  },
  {
   "cell_type": "code",
   "execution_count": null,
   "metadata": {},
   "outputs": [],
   "source": [
    "imdbmerge = pd.merge(principals_df, name_basics_df, on = 'nconst')\n",
    "imdbmerge.head()"
   ]
  },
  {
   "cell_type": "code",
   "execution_count": null,
   "metadata": {},
   "outputs": [],
   "source": [
    "imdbfinal = pd.merge(imdbmerge, basics_df, on = 'tconst')\n",
    "imdbfinal.head()"
   ]
  },
  {
   "cell_type": "code",
   "execution_count": null,
   "metadata": {},
   "outputs": [],
   "source": [
    "imdbfinal = imdbfinal.rename(columns = {'primary_title': 'movie'})\n",
    "imdbfinal.head()"
   ]
  },
  {
   "cell_type": "code",
   "execution_count": null,
   "metadata": {},
   "outputs": [],
   "source": [
    "moviefinal = pd.merge(imdbfinal, movie_budget_df, on = 'movie', how = 'right')\n",
    "moviefinal.head()"
   ]
  },
  {
   "cell_type": "markdown",
   "metadata": {},
   "source": [
    "# Data Cleaning for Merged Movie and IMDB Dataframe "
   ]
  },
  {
   "cell_type": "code",
   "execution_count": null,
   "metadata": {},
   "outputs": [],
   "source": [
    "# Removing unnecessary columns\n",
    "moviefinal = moviefinal.drop(columns=['job', 'characters', 'birth_year', 'death_year', 'primary_profession'])\n",
    "moviefinal.head()"
   ]
  },
  {
   "cell_type": "code",
   "execution_count": null,
   "metadata": {},
   "outputs": [],
   "source": [
    "#dropping NaN values\n",
    "moviefinal = moviefinal.dropna()\n",
    "moviefinal"
   ]
  },
  {
   "cell_type": "markdown",
   "metadata": {},
   "source": [
    "# Data Analysis for Merged Movie and IMDB Dataframe "
   ]
  },
  {
   "cell_type": "code",
   "execution_count": null,
   "metadata": {},
   "outputs": [],
   "source": [
    "#roles of cast\n",
    "moviecategory = moviefinal.groupby('category').size()\n",
    "moviecategory"
   ]
  },
  {
   "cell_type": "code",
   "execution_count": null,
   "metadata": {},
   "outputs": [],
   "source": [
    "moviecategorylist = ['actor', 'producer', 'actress', 'writer', 'director', 'composer', 'cinematographer', 'editor', 'self', 'production_designer']\n",
    "moviecategorycountlist = [7256, 4895, 4260, 4024, 3359, 1836, 1395, 856, 503, 243]"
   ]
  },
  {
   "cell_type": "code",
   "execution_count": null,
   "metadata": {},
   "outputs": [],
   "source": [
    "#Categories Bar Plot\n",
    "plt.figure(figsize=(16,6))\n",
    "ax = sns.barplot(x=moviecategorylist, y=moviecategorycountlist)\n",
    "plt.xticks(rotation=90)\n",
    "plt.xlabel('Categories', fontsize=16, fontweight='bold')\n",
    "plt.ylabel('Frequency of Appearances in Moviefinal Data Set', fontsize=16, fontweight='bold')\n",
    "plt.savefig('Cat.png')\n",
    "plt.title('Categories Bar Plot', fontsize=18, fontweight='bold')"
   ]
  },
  {
   "cell_type": "code",
   "execution_count": null,
   "metadata": {},
   "outputs": [],
   "source": [
    "#When you are producing movies it is more important to hire more people from the categories with higher frequency of appearances than lower frequency of appearances"
   ]
  }
 ],
 "metadata": {
  "kernelspec": {
   "display_name": "Python 3",
   "language": "python",
   "name": "python3"
  },
  "language_info": {
   "codemirror_mode": {
    "name": "ipython",
    "version": 3
   },
   "file_extension": ".py",
   "mimetype": "text/x-python",
   "name": "python",
   "nbconvert_exporter": "python",
   "pygments_lexer": "ipython3",
   "version": "3.8.1"
  }
 },
 "nbformat": 4,
 "nbformat_minor": 4
}
